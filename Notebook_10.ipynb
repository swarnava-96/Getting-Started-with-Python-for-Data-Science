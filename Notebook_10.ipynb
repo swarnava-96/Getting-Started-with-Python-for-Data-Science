{
  "nbformat": 4,
  "nbformat_minor": 0,
  "metadata": {
    "colab": {
      "name": "Notebook 10",
      "provenance": [],
      "authorship_tag": "ABX9TyPsDW7pkNkSCQzmOx8FelVC",
      "include_colab_link": true
    },
    "kernelspec": {
      "name": "python3",
      "display_name": "Python 3"
    },
    "language_info": {
      "name": "python"
    }
  },
  "cells": [
    {
      "cell_type": "markdown",
      "metadata": {
        "id": "view-in-github",
        "colab_type": "text"
      },
      "source": [
        "<a href=\"https://colab.research.google.com/github/swarnava-96/Getting-Started-with-Python-for-Data-Science/blob/main/Notebook_10.ipynb\" target=\"_parent\"><img src=\"https://colab.research.google.com/assets/colab-badge.svg\" alt=\"Open In Colab\"/></a>"
      ]
    },
    {
      "cell_type": "markdown",
      "metadata": {
        "id": "yi_egjf2oOnQ"
      },
      "source": [
        "# **List Iterables vs Iterators**\n"
      ]
    },
    {
      "cell_type": "code",
      "metadata": {
        "colab": {
          "base_uri": "https://localhost:8080/"
        },
        "id": "NFH8lO8coVuE",
        "outputId": "5cfc2541-d58b-4da9-c9ab-a7d35eecda6e"
      },
      "source": [
        "# lists are iterable\n",
        "\n",
        "list = [1, 2, 3, 4, 5, 6, 7]\n",
        "\n",
        "for i in list:\n",
        "  print(i)"
      ],
      "execution_count": 1,
      "outputs": [
        {
          "output_type": "stream",
          "text": [
            "1\n",
            "2\n",
            "3\n",
            "4\n",
            "5\n",
            "6\n",
            "7\n"
          ],
          "name": "stdout"
        }
      ]
    },
    {
      "cell_type": "markdown",
      "metadata": {
        "id": "mJTPsxXmonqH"
      },
      "source": [
        "Now, lets use iterators using the iter command. The advantage of iterators over iterables is that in iterators initially nothing is stored in the memory. The elements gets stored in the memory one by one after the next command is called. Hence, it saves memory usage. For iterables like list everything gets stored in some memory at once. "
      ]
    },
    {
      "cell_type": "code",
      "metadata": {
        "id": "ufSiSNx-pJbO"
      },
      "source": [
        "list1 = iter(list) "
      ],
      "execution_count": 13,
      "outputs": []
    },
    {
      "cell_type": "code",
      "metadata": {
        "colab": {
          "base_uri": "https://localhost:8080/"
        },
        "id": "T2HdJ_J-pW1b",
        "outputId": "f86c242b-2dbb-4ae1-c31a-be6c82bb100a"
      },
      "source": [
        "list1"
      ],
      "execution_count": 14,
      "outputs": [
        {
          "output_type": "execute_result",
          "data": {
            "text/plain": [
              "<list_iterator at 0x7f1ec3d0aa90>"
            ]
          },
          "metadata": {
            "tags": []
          },
          "execution_count": 14
        }
      ]
    },
    {
      "cell_type": "code",
      "metadata": {
        "colab": {
          "base_uri": "https://localhost:8080/"
        },
        "id": "LPgbGLSqpYtW",
        "outputId": "ffa1269c-17cc-46d1-b956-41eaf7de8efd"
      },
      "source": [
        "# Now lets use the next command and call the elements in our list one by one. Starting with the first element.\n",
        "\n",
        "next(list1)"
      ],
      "execution_count": 4,
      "outputs": [
        {
          "output_type": "execute_result",
          "data": {
            "text/plain": [
              "1"
            ]
          },
          "metadata": {
            "tags": []
          },
          "execution_count": 4
        }
      ]
    },
    {
      "cell_type": "code",
      "metadata": {
        "colab": {
          "base_uri": "https://localhost:8080/"
        },
        "id": "iuMn1KoTpkgE",
        "outputId": "0a1c9686-26eb-47e5-e7f4-120d76d8df43"
      },
      "source": [
        "# Now second element\n",
        "\n",
        "next(list1)"
      ],
      "execution_count": 5,
      "outputs": [
        {
          "output_type": "execute_result",
          "data": {
            "text/plain": [
              "2"
            ]
          },
          "metadata": {
            "tags": []
          },
          "execution_count": 5
        }
      ]
    },
    {
      "cell_type": "code",
      "metadata": {
        "colab": {
          "base_uri": "https://localhost:8080/"
        },
        "id": "SDccr9C7pxiu",
        "outputId": "89731f9e-2668-4320-94db-0b2528849bab"
      },
      "source": [
        "# Now third element\n",
        "\n",
        "next(list1)"
      ],
      "execution_count": 6,
      "outputs": [
        {
          "output_type": "execute_result",
          "data": {
            "text/plain": [
              "3"
            ]
          },
          "metadata": {
            "tags": []
          },
          "execution_count": 6
        }
      ]
    },
    {
      "cell_type": "code",
      "metadata": {
        "colab": {
          "base_uri": "https://localhost:8080/"
        },
        "id": "SnGyDFUEp3Wi",
        "outputId": "87039f21-df77-4a7c-a59f-246558883437"
      },
      "source": [
        "# Now fourth element\n",
        "\n",
        "next(list1)"
      ],
      "execution_count": 7,
      "outputs": [
        {
          "output_type": "execute_result",
          "data": {
            "text/plain": [
              "4"
            ]
          },
          "metadata": {
            "tags": []
          },
          "execution_count": 7
        }
      ]
    },
    {
      "cell_type": "code",
      "metadata": {
        "colab": {
          "base_uri": "https://localhost:8080/"
        },
        "id": "gIf98z24p8lb",
        "outputId": "de5bd97b-d100-469f-86ac-d92f4e79c949"
      },
      "source": [
        "# Now fifth element\n",
        "\n",
        "next(list1)"
      ],
      "execution_count": 8,
      "outputs": [
        {
          "output_type": "execute_result",
          "data": {
            "text/plain": [
              "5"
            ]
          },
          "metadata": {
            "tags": []
          },
          "execution_count": 8
        }
      ]
    },
    {
      "cell_type": "code",
      "metadata": {
        "colab": {
          "base_uri": "https://localhost:8080/"
        },
        "id": "Aq_NqHQhqAqU",
        "outputId": "ea46e37a-f423-46e8-f4ed-b35300e09ef2"
      },
      "source": [
        "# Now sisth element\n",
        "\n",
        "next(list1)"
      ],
      "execution_count": 9,
      "outputs": [
        {
          "output_type": "execute_result",
          "data": {
            "text/plain": [
              "6"
            ]
          },
          "metadata": {
            "tags": []
          },
          "execution_count": 9
        }
      ]
    },
    {
      "cell_type": "code",
      "metadata": {
        "colab": {
          "base_uri": "https://localhost:8080/"
        },
        "id": "S5vSRCLbqFRz",
        "outputId": "f80bc2b3-ddde-41a4-cf1d-739df98897bc"
      },
      "source": [
        "# Now final element\n",
        "\n",
        "next(list1)"
      ],
      "execution_count": 10,
      "outputs": [
        {
          "output_type": "execute_result",
          "data": {
            "text/plain": [
              "7"
            ]
          },
          "metadata": {
            "tags": []
          },
          "execution_count": 10
        }
      ]
    },
    {
      "cell_type": "code",
      "metadata": {
        "colab": {
          "base_uri": "https://localhost:8080/",
          "height": 197
        },
        "id": "zSwhQoa4qKoX",
        "outputId": "22578591-9f64-4446-8dab-c89dddf8ccee"
      },
      "source": [
        "# Lets see what happens if we want to call the next command again\n",
        "\n",
        "next(list1)"
      ],
      "execution_count": 11,
      "outputs": [
        {
          "output_type": "error",
          "ename": "StopIteration",
          "evalue": "ignored",
          "traceback": [
            "\u001b[0;31m---------------------------------------------------------------------------\u001b[0m",
            "\u001b[0;31mStopIteration\u001b[0m                             Traceback (most recent call last)",
            "\u001b[0;32m<ipython-input-11-0b88e79391df>\u001b[0m in \u001b[0;36m<module>\u001b[0;34m()\u001b[0m\n\u001b[1;32m      1\u001b[0m \u001b[0;31m# Lets see what happens if we want to call the next command again\u001b[0m\u001b[0;34m\u001b[0m\u001b[0;34m\u001b[0m\u001b[0;34m\u001b[0m\u001b[0m\n\u001b[1;32m      2\u001b[0m \u001b[0;34m\u001b[0m\u001b[0m\n\u001b[0;32m----> 3\u001b[0;31m \u001b[0mnext\u001b[0m\u001b[0;34m(\u001b[0m\u001b[0mlist1\u001b[0m\u001b[0;34m)\u001b[0m\u001b[0;34m\u001b[0m\u001b[0;34m\u001b[0m\u001b[0m\n\u001b[0m",
            "\u001b[0;31mStopIteration\u001b[0m: "
          ]
        }
      ]
    },
    {
      "cell_type": "markdown",
      "metadata": {
        "id": "B91IVggLqUz9"
      },
      "source": [
        "We can see clearly, that it is telling us to stop iterating. Again if we want to re-run the entire process, we have to start fresh."
      ]
    },
    {
      "cell_type": "code",
      "metadata": {
        "id": "aDvYKEy5qhAM"
      },
      "source": [
        "# We can also use a for loop in iter\n",
        "\n",
        "for i in list1:\n",
        "  print(i)"
      ],
      "execution_count": 12,
      "outputs": []
    },
    {
      "cell_type": "markdown",
      "metadata": {
        "id": "g4T2l6qIqzsk"
      },
      "source": [
        "It is not printing anything because we have already used next command to see our entire list. We will have to start fresh. The advantage of using for loop with iter is that it automatically handles the \"StopIteration\" error. "
      ]
    },
    {
      "cell_type": "code",
      "metadata": {
        "colab": {
          "base_uri": "https://localhost:8080/"
        },
        "id": "ijZrujOQrF5l",
        "outputId": "5156a9e2-9ca1-4c69-95e8-9554425fdd50"
      },
      "source": [
        "# After starting freshly, lets use for loop again\n",
        "\n",
        "for i in list1:\n",
        "  print(i)"
      ],
      "execution_count": 15,
      "outputs": [
        {
          "output_type": "stream",
          "text": [
            "1\n",
            "2\n",
            "3\n",
            "4\n",
            "5\n",
            "6\n",
            "7\n"
          ],
          "name": "stdout"
        }
      ]
    },
    {
      "cell_type": "markdown",
      "metadata": {
        "id": "Hi7uTWzQrY8H"
      },
      "source": [
        "Now we can see all the elements and it also handles the error!"
      ]
    }
  ]
}