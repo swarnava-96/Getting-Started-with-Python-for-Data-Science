{
  "nbformat": 4,
  "nbformat_minor": 0,
  "metadata": {
    "colab": {
      "name": "Notebook3",
      "provenance": [],
      "authorship_tag": "ABX9TyNPAKnw4qzeq9fF3qV//Xb2",
      "include_colab_link": true
    },
    "kernelspec": {
      "name": "python3",
      "display_name": "Python 3"
    },
    "language_info": {
      "name": "python"
    }
  },
  "cells": [
    {
      "cell_type": "markdown",
      "metadata": {
        "id": "view-in-github",
        "colab_type": "text"
      },
      "source": [
        "<a href=\"https://colab.research.google.com/github/swarnava-96/Getting-Started-with-Python-for-Data-Science/blob/main/Notebook3.ipynb\" target=\"_parent\"><img src=\"https://colab.research.google.com/assets/colab-badge.svg\" alt=\"Open In Colab\"/></a>"
      ]
    },
    {
      "cell_type": "markdown",
      "metadata": {
        "id": "qlMWjoYFeCi4"
      },
      "source": [
        "# **Numpy**\n",
        "\n",
        "Numpy is a general-purpose array-processing package. It provides a high-performance multidimensional array object, and tools for working with these arrays. It is the fundamental package for scientific computing with Python.\n",
        "\n",
        "What is an array?\n",
        "\n",
        "An array is a data structure that stores values of same data type. In Python, this is the main difference between arrays and lists. While python lists can contain values corresponding to different data types, arrays in python can only contain values corresponding to same data type."
      ]
    },
    {
      "cell_type": "code",
      "metadata": {
        "id": "WCGcBVBGeZTi"
      },
      "source": [
        "# Importing Numpy library as an alias np\n",
        "\n",
        "import numpy as np"
      ],
      "execution_count": 1,
      "outputs": []
    },
    {
      "cell_type": "code",
      "metadata": {
        "id": "Gr66iaZkeiKX"
      },
      "source": [
        "my_list = [1, 2, 3, 4, 5]"
      ],
      "execution_count": 2,
      "outputs": []
    },
    {
      "cell_type": "code",
      "metadata": {
        "colab": {
          "base_uri": "https://localhost:8080/"
        },
        "id": "FtVQvxp_eyr8",
        "outputId": "186fc0b8-cb1b-4a95-9ec3-bcf7f183e00f"
      },
      "source": [
        "type(my_list)"
      ],
      "execution_count": 3,
      "outputs": [
        {
          "output_type": "execute_result",
          "data": {
            "text/plain": [
              "list"
            ]
          },
          "metadata": {
            "tags": []
          },
          "execution_count": 3
        }
      ]
    },
    {
      "cell_type": "code",
      "metadata": {
        "id": "ZvKNjK6Seren"
      },
      "source": [
        "# Converting list into arry\n",
        "\n",
        "array = np.array(my_list)"
      ],
      "execution_count": 4,
      "outputs": []
    },
    {
      "cell_type": "code",
      "metadata": {
        "colab": {
          "base_uri": "https://localhost:8080/"
        },
        "id": "sVww7bJ-e2KV",
        "outputId": "f7616f09-1ab5-418f-cbc3-70ba9509d751"
      },
      "source": [
        "type(array)"
      ],
      "execution_count": 5,
      "outputs": [
        {
          "output_type": "execute_result",
          "data": {
            "text/plain": [
              "numpy.ndarray"
            ]
          },
          "metadata": {
            "tags": []
          },
          "execution_count": 5
        }
      ]
    },
    {
      "cell_type": "code",
      "metadata": {
        "id": "3QRAwFY6e4en"
      },
      "source": [
        "# Multinested array\n",
        "\n",
        "my_lst1=[1,2,3,4,5]\n",
        "my_lst2=[2,3,4,5,6]\n",
        "my_lst3=[9,7,6,8,9]\n",
        "\n",
        "arr=np.array([my_lst1,my_lst2,my_lst3])"
      ],
      "execution_count": 6,
      "outputs": []
    },
    {
      "cell_type": "code",
      "metadata": {
        "colab": {
          "base_uri": "https://localhost:8080/"
        },
        "id": "wL-GE8l1fFIs",
        "outputId": "4c78523e-e1c3-4023-89aa-b2ed65e9d11e"
      },
      "source": [
        "type(arr)"
      ],
      "execution_count": 7,
      "outputs": [
        {
          "output_type": "execute_result",
          "data": {
            "text/plain": [
              "numpy.ndarray"
            ]
          },
          "metadata": {
            "tags": []
          },
          "execution_count": 7
        }
      ]
    },
    {
      "cell_type": "code",
      "metadata": {
        "colab": {
          "base_uri": "https://localhost:8080/"
        },
        "id": "5za-0AuefHni",
        "outputId": "11730521-293d-4f72-e283-6651b571ed44"
      },
      "source": [
        "## check the shape of the array\n",
        "\n",
        "arr.shape"
      ],
      "execution_count": 8,
      "outputs": [
        {
          "output_type": "execute_result",
          "data": {
            "text/plain": [
              "(3, 5)"
            ]
          },
          "metadata": {
            "tags": []
          },
          "execution_count": 8
        }
      ]
    },
    {
      "cell_type": "code",
      "metadata": {
        "colab": {
          "base_uri": "https://localhost:8080/"
        },
        "id": "CTzmoG8UfLBi",
        "outputId": "171e0378-3073-4479-b703-2a6cfcddf49b"
      },
      "source": [
        "arr  # A 2D array"
      ],
      "execution_count": 9,
      "outputs": [
        {
          "output_type": "execute_result",
          "data": {
            "text/plain": [
              "array([[1, 2, 3, 4, 5],\n",
              "       [2, 3, 4, 5, 6],\n",
              "       [9, 7, 6, 8, 9]])"
            ]
          },
          "metadata": {
            "tags": []
          },
          "execution_count": 9
        }
      ]
    },
    {
      "cell_type": "code",
      "metadata": {
        "colab": {
          "base_uri": "https://localhost:8080/"
        },
        "id": "aGw6UVkLfTTu",
        "outputId": "58d86248-41d7-4a96-f66b-ef0556956fea"
      },
      "source": [
        "# Indexing\n",
        "## Accessing the array elements\n",
        "\n",
        "my_lst=[1,2,3,4,5]\n",
        "\n",
        "arr=np.array(my_lst)\n",
        "\n",
        "arr  # 1D Array"
      ],
      "execution_count": 11,
      "outputs": [
        {
          "output_type": "execute_result",
          "data": {
            "text/plain": [
              "array([1, 2, 3, 4, 5])"
            ]
          },
          "metadata": {
            "tags": []
          },
          "execution_count": 11
        }
      ]
    },
    {
      "cell_type": "code",
      "metadata": {
        "colab": {
          "base_uri": "https://localhost:8080/"
        },
        "id": "ccfYY-IefmWk",
        "outputId": "1b377580-4c9a-4965-e127-7a0009d27584"
      },
      "source": [
        "arr[3]  # Indexing starts from 0"
      ],
      "execution_count": 12,
      "outputs": [
        {
          "output_type": "execute_result",
          "data": {
            "text/plain": [
              "4"
            ]
          },
          "metadata": {
            "tags": []
          },
          "execution_count": 12
        }
      ]
    },
    {
      "cell_type": "code",
      "metadata": {
        "colab": {
          "base_uri": "https://localhost:8080/"
        },
        "id": "X9rR-jrzf2ye",
        "outputId": "2b11d2cc-a76b-40d3-e412-47a874b169f3"
      },
      "source": [
        "my_lst1=[1,2,3,4,5]\n",
        "my_lst2=[2,3,4,5,6]\n",
        "my_lst3=[9,7,6,8,9]\n",
        "\n",
        "arr1=np.array([my_lst1,my_lst2,my_lst3])\n",
        "\n",
        "arr1"
      ],
      "execution_count": 13,
      "outputs": [
        {
          "output_type": "execute_result",
          "data": {
            "text/plain": [
              "array([[1, 2, 3, 4, 5],\n",
              "       [2, 3, 4, 5, 6],\n",
              "       [9, 7, 6, 8, 9]])"
            ]
          },
          "metadata": {
            "tags": []
          },
          "execution_count": 13
        }
      ]
    },
    {
      "cell_type": "code",
      "metadata": {
        "colab": {
          "base_uri": "https://localhost:8080/"
        },
        "id": "e8oedHMagC9X",
        "outputId": "2df84840-9328-427e-eaa2-2fa5b5904ec7"
      },
      "source": [
        "# Extracting the elements 2,3\n",
        "#                         9,7\n",
        "\n",
        "arr1[1:,:2]  "
      ],
      "execution_count": 16,
      "outputs": [
        {
          "output_type": "execute_result",
          "data": {
            "text/plain": [
              "array([[2, 3],\n",
              "       [9, 7]])"
            ]
          },
          "metadata": {
            "tags": []
          },
          "execution_count": 16
        }
      ]
    },
    {
      "cell_type": "code",
      "metadata": {
        "colab": {
          "base_uri": "https://localhost:8080/"
        },
        "id": "9AGacVj-gjGL",
        "outputId": "279e4f63-3b51-46d2-fcdf-578b452de4e1"
      },
      "source": [
        "# Extracting the elements 4, 5\n",
        "#                         5, 6\n",
        "#                         8, 9\n",
        "\n",
        "arr1[:,3:]"
      ],
      "execution_count": 19,
      "outputs": [
        {
          "output_type": "execute_result",
          "data": {
            "text/plain": [
              "array([[4, 5],\n",
              "       [5, 6],\n",
              "       [8, 9]])"
            ]
          },
          "metadata": {
            "tags": []
          },
          "execution_count": 19
        }
      ]
    },
    {
      "cell_type": "code",
      "metadata": {
        "colab": {
          "base_uri": "https://localhost:8080/"
        },
        "id": "8KBfwZ_UhZJv",
        "outputId": "421678a0-4e28-4ee6-dfc9-afe7ba56a27a"
      },
      "source": [
        "# Extracting the elements 3,4\n",
        "#                         4,5\n",
        "\n",
        "arr1[:2,2:4]"
      ],
      "execution_count": 22,
      "outputs": [
        {
          "output_type": "execute_result",
          "data": {
            "text/plain": [
              "array([[3, 4],\n",
              "       [4, 5]])"
            ]
          },
          "metadata": {
            "tags": []
          },
          "execution_count": 22
        }
      ]
    },
    {
      "cell_type": "code",
      "metadata": {
        "colab": {
          "base_uri": "https://localhost:8080/"
        },
        "id": "x-hDOG-9hu0C",
        "outputId": "ca318491-2374-48a9-ad1b-7a0a86746e83"
      },
      "source": [
        "arr"
      ],
      "execution_count": 23,
      "outputs": [
        {
          "output_type": "execute_result",
          "data": {
            "text/plain": [
              "array([1, 2, 3, 4, 5])"
            ]
          },
          "metadata": {
            "tags": []
          },
          "execution_count": 23
        }
      ]
    },
    {
      "cell_type": "code",
      "metadata": {
        "colab": {
          "base_uri": "https://localhost:8080/"
        },
        "id": "V4qCSP4jidww",
        "outputId": "350fe03c-a33b-43e7-ab4b-5e1255c0cf33"
      },
      "source": [
        "# Checking the dimensions of arrays\n",
        "\n",
        "print(arr.ndim)\n",
        "print(arr1.ndim)"
      ],
      "execution_count": 25,
      "outputs": [
        {
          "output_type": "stream",
          "text": [
            "1\n",
            "2\n"
          ],
          "name": "stdout"
        }
      ]
    },
    {
      "cell_type": "code",
      "metadata": {
        "id": "Y8VflupAijEN"
      },
      "source": [
        "arr[3:] = 100"
      ],
      "execution_count": 26,
      "outputs": []
    },
    {
      "cell_type": "code",
      "metadata": {
        "colab": {
          "base_uri": "https://localhost:8080/"
        },
        "id": "d5O9icrci5WR",
        "outputId": "0e0f7eba-6973-401e-a758-47c4a68154a2"
      },
      "source": [
        "arr"
      ],
      "execution_count": 27,
      "outputs": [
        {
          "output_type": "execute_result",
          "data": {
            "text/plain": [
              "array([  1,   2,   3, 100, 100])"
            ]
          },
          "metadata": {
            "tags": []
          },
          "execution_count": 27
        }
      ]
    },
    {
      "cell_type": "code",
      "metadata": {
        "colab": {
          "base_uri": "https://localhost:8080/"
        },
        "id": "-4qyamyZi50C",
        "outputId": "652b9ba4-7c76-4e8d-ca25-1989dd2bc536"
      },
      "source": [
        "# Some conditions very useful in Exploratory Data Analysis \n",
        "\n",
        "val = 2\n",
        "arr[arr < 3]"
      ],
      "execution_count": 28,
      "outputs": [
        {
          "output_type": "execute_result",
          "data": {
            "text/plain": [
              "array([1, 2])"
            ]
          },
          "metadata": {
            "tags": []
          },
          "execution_count": 28
        }
      ]
    },
    {
      "cell_type": "code",
      "metadata": {
        "id": "RHJpoEjcjJBb"
      },
      "source": [
        "# Create arrays and reshape\n",
        "\n",
        "a = np.arange(0,10)\n"
      ],
      "execution_count": 30,
      "outputs": []
    },
    {
      "cell_type": "code",
      "metadata": {
        "colab": {
          "base_uri": "https://localhost:8080/"
        },
        "id": "XUBHi0c9jSrq",
        "outputId": "955428d1-b142-481e-f9d4-c190b88b9cef"
      },
      "source": [
        "print(type(a))\n",
        "print(a.ndim)\n",
        "print(a)"
      ],
      "execution_count": 33,
      "outputs": [
        {
          "output_type": "stream",
          "text": [
            "<class 'numpy.ndarray'>\n",
            "1\n",
            "[0 1 2 3 4 5 6 7 8 9]\n"
          ],
          "name": "stdout"
        }
      ]
    },
    {
      "cell_type": "code",
      "metadata": {
        "id": "dFtug_IjjdnB"
      },
      "source": [
        "# Reshaping\n",
        "\n",
        "b = a.reshape(5,2)"
      ],
      "execution_count": 37,
      "outputs": []
    },
    {
      "cell_type": "code",
      "metadata": {
        "colab": {
          "base_uri": "https://localhost:8080/"
        },
        "id": "d1LqqT0hj1vD",
        "outputId": "15850eb5-bbb9-4e57-a9cc-1b676beb2924"
      },
      "source": [
        "print(b.ndim)\n",
        "print(b)"
      ],
      "execution_count": 38,
      "outputs": [
        {
          "output_type": "stream",
          "text": [
            "2\n",
            "[[0 1]\n",
            " [2 3]\n",
            " [4 5]\n",
            " [6 7]\n",
            " [8 9]]\n"
          ],
          "name": "stdout"
        }
      ]
    },
    {
      "cell_type": "code",
      "metadata": {
        "colab": {
          "base_uri": "https://localhost:8080/"
        },
        "id": "Qa1cQhlvj3rM",
        "outputId": "ffcc8014-5f78-43fb-b205-61fbe1611311"
      },
      "source": [
        "a"
      ],
      "execution_count": 36,
      "outputs": [
        {
          "output_type": "execute_result",
          "data": {
            "text/plain": [
              "array([0, 1, 2, 3, 4, 5, 6, 7, 8, 9])"
            ]
          },
          "metadata": {
            "tags": []
          },
          "execution_count": 36
        }
      ]
    },
    {
      "cell_type": "code",
      "metadata": {
        "colab": {
          "base_uri": "https://localhost:8080/"
        },
        "id": "qSFK7UWFj8oi",
        "outputId": "fe2246f0-376c-4cff-f08d-12030c92a5fe"
      },
      "source": [
        "# Array multiplication\n",
        "\n",
        "arr1=np.arange(0,10).reshape(2,5)\n",
        "arr2=np.arange(0,10).reshape(2,5)\n",
        "\n",
        "arr1 * arr2"
      ],
      "execution_count": 41,
      "outputs": [
        {
          "output_type": "execute_result",
          "data": {
            "text/plain": [
              "array([[ 0,  1,  4,  9, 16],\n",
              "       [25, 36, 49, 64, 81]])"
            ]
          },
          "metadata": {
            "tags": []
          },
          "execution_count": 41
        }
      ]
    },
    {
      "cell_type": "code",
      "metadata": {
        "colab": {
          "base_uri": "https://localhost:8080/"
        },
        "id": "VjQ3DTQ1kR6I",
        "outputId": "0438052e-a732-4d6d-b150-5ea2dec48d7d"
      },
      "source": [
        "# Creating an array of all ones\n",
        "\n",
        "np.ones((2,5),dtype=int)"
      ],
      "execution_count": 42,
      "outputs": [
        {
          "output_type": "execute_result",
          "data": {
            "text/plain": [
              "array([[1, 1, 1, 1, 1],\n",
              "       [1, 1, 1, 1, 1]])"
            ]
          },
          "metadata": {
            "tags": []
          },
          "execution_count": 42
        }
      ]
    },
    {
      "cell_type": "code",
      "metadata": {
        "colab": {
          "base_uri": "https://localhost:8080/"
        },
        "id": "SUx29hNpk8x8",
        "outputId": "75bd63ae-7d81-4801-ded5-01c3e61d5dcb"
      },
      "source": [
        "# Random distribution\n",
        "\n",
        "np.random.rand(3,3)"
      ],
      "execution_count": 43,
      "outputs": [
        {
          "output_type": "execute_result",
          "data": {
            "text/plain": [
              "array([[0.07611016, 0.54246193, 0.82334601],\n",
              "       [0.07517142, 0.07493427, 0.80561775],\n",
              "       [0.02867115, 0.39032727, 0.46655622]])"
            ]
          },
          "metadata": {
            "tags": []
          },
          "execution_count": 43
        }
      ]
    },
    {
      "cell_type": "code",
      "metadata": {
        "id": "bppbBljClEfK"
      },
      "source": [
        "# Follows standard normal distribution\n",
        "\n",
        "arr_ex=np.random.randn(4,4)"
      ],
      "execution_count": 44,
      "outputs": []
    },
    {
      "cell_type": "code",
      "metadata": {
        "colab": {
          "base_uri": "https://localhost:8080/"
        },
        "id": "kl0ZBbtSlRmS",
        "outputId": "cf3b7751-a43b-4058-9cc8-5441ddbd1b08"
      },
      "source": [
        "arr_ex"
      ],
      "execution_count": 45,
      "outputs": [
        {
          "output_type": "execute_result",
          "data": {
            "text/plain": [
              "array([[-1.50771295e+00, -6.33150181e-01, -1.19408349e+00,\n",
              "        -6.44498982e-01],\n",
              "       [ 1.53497345e+00, -1.12136273e-01, -2.99076084e-01,\n",
              "        -1.30963184e+00],\n",
              "       [ 5.60521977e-01,  4.93403759e-01, -2.65071533e-01,\n",
              "         1.63643360e+00],\n",
              "       [-1.37547596e+00, -4.86476582e-01,  6.91268453e-01,\n",
              "        -8.37432542e-06]])"
            ]
          },
          "metadata": {
            "tags": []
          },
          "execution_count": 45
        }
      ]
    },
    {
      "cell_type": "code",
      "metadata": {
        "colab": {
          "base_uri": "https://localhost:8080/",
          "height": 336
        },
        "id": "Hn5SByBqlThI",
        "outputId": "56bab771-a43c-454f-a4b5-e96d42e57e72"
      },
      "source": [
        "# Lets plot the array arr_ex and check its distribution pattern\n",
        "\n",
        "import seaborn as sns\n",
        "import pandas as pd\n",
        "\n",
        "sns.distplot(pd.DataFrame(arr_ex.reshape(16,1)))"
      ],
      "execution_count": 50,
      "outputs": [
        {
          "output_type": "stream",
          "text": [
            "/usr/local/lib/python3.7/dist-packages/seaborn/distributions.py:2557: FutureWarning: `distplot` is a deprecated function and will be removed in a future version. Please adapt your code to use either `displot` (a figure-level function with similar flexibility) or `histplot` (an axes-level function for histograms).\n",
            "  warnings.warn(msg, FutureWarning)\n"
          ],
          "name": "stderr"
        },
        {
          "output_type": "execute_result",
          "data": {
            "text/plain": [
              "<matplotlib.axes._subplots.AxesSubplot at 0x7f7c6461e3d0>"
            ]
          },
          "metadata": {
            "tags": []
          },
          "execution_count": 50
        },
        {
          "output_type": "display_data",
          "data": {
            "image/png": "[encoded data removed]",
            "text/plain": [
              "<Figure size 432x288 with 1 Axes>"
            ]
          },
          "metadata": {
            "tags": [],
            "needs_background": "light"
          }
        }
      ]
    },
    {
      "cell_type": "code",
      "metadata": {
        "id": "1qWUVk4WlhMj"
      },
      "source": [
        "# Randint \n",
        "\n",
        "a = np.random.randint(0,100,8).reshape(4,2)"
      ],
      "execution_count": 52,
      "outputs": []
    },
    {
      "cell_type": "code",
      "metadata": {
        "colab": {
          "base_uri": "https://localhost:8080/"
        },
        "id": "wr3xV6Ubl0cK",
        "outputId": "8f2c9c16-31d9-4b58-ed8a-2c0a67191294"
      },
      "source": [
        "print(type(a))\n",
        "print(a)"
      ],
      "execution_count": 54,
      "outputs": [
        {
          "output_type": "stream",
          "text": [
            "<class 'numpy.ndarray'>\n",
            "[[ 4  5]\n",
            " [62 43]\n",
            " [37  6]\n",
            " [62 18]]\n"
          ],
          "name": "stdout"
        }
      ]
    },
    {
      "cell_type": "code",
      "metadata": {
        "colab": {
          "base_uri": "https://localhost:8080/"
        },
        "id": "fE7iopRZl6bb",
        "outputId": "ad669750-4186-4627-ae0f-132ad82fdd22"
      },
      "source": [
        "# Random sample\n",
        "\n",
        "np.random.random_sample((1,5))"
      ],
      "execution_count": 55,
      "outputs": [
        {
          "output_type": "execute_result",
          "data": {
            "text/plain": [
              "array([[0.40624186, 0.55563668, 0.29704681, 0.79510179, 0.62278289]])"
            ]
          },
          "metadata": {
            "tags": []
          },
          "execution_count": 55
        }
      ]
    }
  ]
}