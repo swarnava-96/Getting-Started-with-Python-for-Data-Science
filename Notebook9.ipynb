{
  "nbformat": 4,
  "nbformat_minor": 0,
  "metadata": {
    "colab": {
      "name": "Notebook9",
      "provenance": [],
      "authorship_tag": "ABX9TyNL/h237Iuzq7xkBz4efXYc",
      "include_colab_link": true
    },
    "kernelspec": {
      "name": "python3",
      "display_name": "Python 3"
    },
    "language_info": {
      "name": "python"
    }
  },
  "cells": [
    {
      "cell_type": "markdown",
      "metadata": {
        "id": "view-in-github",
        "colab_type": "text"
      },
      "source": [
        "<a href=\"https://colab.research.google.com/github/swarnava-96/Getting-Started-with-Python-for-Data-Science/blob/main/Notebook9.ipynb\" target=\"_parent\"><img src=\"https://colab.research.google.com/assets/colab-badge.svg\" alt=\"Open In Colab\"/></a>"
      ]
    },
    {
      "cell_type": "markdown",
      "metadata": {
        "id": "kXdbJ9lzcFlF"
      },
      "source": [
        "# **List Comprehension**\n",
        "List Comprehension provides a concise way of creating lists. It consists of brackets containing an expression followed by a for clause, then zero or more for or if clause. The expressions can be anything, meaning you can put in all kinds of objects in lists."
      ]
    },
    {
      "cell_type": "code",
      "metadata": {
        "id": "ml_20PBcfJVl"
      },
      "source": [
        "# Defining a square function\n",
        "\n",
        "list1 = []\n",
        "def list_square(list):\n",
        "  for i in list:\n",
        "    list1.append(i * i)\n",
        "  return list1\n"
      ],
      "execution_count": 1,
      "outputs": []
    },
    {
      "cell_type": "code",
      "metadata": {
        "colab": {
          "base_uri": "https://localhost:8080/"
        },
        "id": "sslagp8tgHEs",
        "outputId": "c8481568-db83-4501-b80d-0ec361bcec18"
      },
      "source": [
        "list_square([1, 2, 3, 4, 5, 6, 7])"
      ],
      "execution_count": 2,
      "outputs": [
        {
          "output_type": "execute_result",
          "data": {
            "text/plain": [
              "[1, 4, 9, 16, 25, 36, 49]"
            ]
          },
          "metadata": {
            "tags": []
          },
          "execution_count": 2
        }
      ]
    },
    {
      "cell_type": "code",
      "metadata": {
        "id": "wSkEKQ1RgnGQ"
      },
      "source": [
        "list = [1, 2, 3, 4, 5, 6, 7]"
      ],
      "execution_count": 4,
      "outputs": []
    },
    {
      "cell_type": "code",
      "metadata": {
        "id": "w-R5XB2MgSBL"
      },
      "source": [
        "# Applying list comprehension we can do it in one line of code\n",
        "\n",
        "list2 = [i * i for i in list]"
      ],
      "execution_count": 7,
      "outputs": []
    },
    {
      "cell_type": "code",
      "metadata": {
        "colab": {
          "base_uri": "https://localhost:8080/"
        },
        "id": "P-4RD3PGggee",
        "outputId": "5e549d48-a429-454a-e987-5c73a67ea97d"
      },
      "source": [
        "print(list2)"
      ],
      "execution_count": 8,
      "outputs": [
        {
          "output_type": "stream",
          "text": [
            "[1, 4, 9, 16, 25, 36, 49]\n"
          ],
          "name": "stdout"
        }
      ]
    },
    {
      "cell_type": "code",
      "metadata": {
        "colab": {
          "base_uri": "https://localhost:8080/"
        },
        "id": "B8OPsgWYg6R7",
        "outputId": "576b981b-de2b-4126-9e3d-9f786cd94d9d"
      },
      "source": [
        "# Using List Comprehension to print only the squares of even numbers in the list\n",
        "\n",
        "list3 = [i * i for i in list if i%2 == 0]\n",
        "print(list3)"
      ],
      "execution_count": 9,
      "outputs": [
        {
          "output_type": "stream",
          "text": [
            "[4, 16, 36]\n"
          ],
          "name": "stdout"
        }
      ]
    },
    {
      "cell_type": "code",
      "metadata": {
        "colab": {
          "base_uri": "https://localhost:8080/"
        },
        "id": "7yaAp_eehnMw",
        "outputId": "3f74eb69-cf90-4328-d06a-8b3435290830"
      },
      "source": [
        "# Using list comprehension to print only the squares of odd numbers\n",
        "\n",
        "list4 = [i * i for i in list if i%2 != 0]\n",
        "print(list4)"
      ],
      "execution_count": 11,
      "outputs": [
        {
          "output_type": "stream",
          "text": [
            "[1, 9, 25, 49]\n"
          ],
          "name": "stdout"
        }
      ]
    }
  ]
}