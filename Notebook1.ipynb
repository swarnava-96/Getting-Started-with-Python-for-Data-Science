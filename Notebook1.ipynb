{
  "nbformat": 4,
  "nbformat_minor": 0,
  "metadata": {
    "colab": {
      "name": "Notebook1",
      "provenance": [],
      "authorship_tag": "ABX9TyO79UQ+6z/YDW9VqjAJ8B36",
      "include_colab_link": true
    },
    "kernelspec": {
      "name": "python3",
      "display_name": "Python 3"
    },
    "language_info": {
      "name": "python"
    }
  },
  "cells": [
    {
      "cell_type": "markdown",
      "metadata": {
        "id": "view-in-github",
        "colab_type": "text"
      },
      "source": [
        "<a href=\"https://colab.research.google.com/github/swarnava-96/Python-for-Data-Science/blob/main/Notebook1.ipynb\" target=\"_parent\"><img src=\"https://colab.research.google.com/assets/colab-badge.svg\" alt=\"Open In Colab\"/></a>"
      ]
    },
    {
      "cell_type": "markdown",
      "metadata": {
        "id": "BQtYdTrAxNRL"
      },
      "source": [
        "# **Getting Started with Python for Data Science** "
      ]
    },
    {
      "cell_type": "markdown",
      "metadata": {
        "id": "Z17JVNqwxeqy"
      },
      "source": [
        "## Topics Covered\n",
        "\n",
        "1.   Data types in Python\n",
        "     * Numbers  \n",
        "     * Checking the Data type\n",
        "     * Strings\n",
        "\n",
        "2.   Variable Assignment\n",
        "3.   Print Formatting\n",
        "4.   Length\n",
        "\n",
        "\n",
        "\n",
        "\n",
        "\n"
      ]
    },
    {
      "cell_type": "markdown",
      "metadata": {
        "id": "Q5tm5EfXyqHA"
      },
      "source": [
        "### **Data Types in Python**"
      ]
    },
    {
      "cell_type": "markdown",
      "metadata": {
        "id": "gD9XQq9fz7rz"
      },
      "source": [
        "### Numbers"
      ]
    },
    {
      "cell_type": "code",
      "metadata": {
        "colab": {
          "base_uri": "https://localhost:8080/"
        },
        "id": "EprXIgfEz-EZ",
        "outputId": "abaf766f-09b6-4c88-ceb7-796d663db336"
      },
      "source": [
        "# Addition\n",
        "\n",
        "1 + 1 "
      ],
      "execution_count": 32,
      "outputs": [
        {
          "output_type": "execute_result",
          "data": {
            "text/plain": [
              "2"
            ]
          },
          "metadata": {
            "tags": []
          },
          "execution_count": 32
        }
      ]
    },
    {
      "cell_type": "code",
      "metadata": {
        "colab": {
          "base_uri": "https://localhost:8080/"
        },
        "id": "4L7VJbc502Lk",
        "outputId": "53cde64d-9f82-4471-a5db-17115964579a"
      },
      "source": [
        "# Subtraction\n",
        "\n",
        "10 - 5"
      ],
      "execution_count": 33,
      "outputs": [
        {
          "output_type": "execute_result",
          "data": {
            "text/plain": [
              "5"
            ]
          },
          "metadata": {
            "tags": []
          },
          "execution_count": 33
        }
      ]
    },
    {
      "cell_type": "code",
      "metadata": {
        "colab": {
          "base_uri": "https://localhost:8080/"
        },
        "id": "IPDMyspn0fdR",
        "outputId": "31454351-47d1-4f9f-ecc7-6962e0f2ec1b"
      },
      "source": [
        "# Multiplication\n",
        "\n",
        "4 * 5"
      ],
      "execution_count": 34,
      "outputs": [
        {
          "output_type": "execute_result",
          "data": {
            "text/plain": [
              "20"
            ]
          },
          "metadata": {
            "tags": []
          },
          "execution_count": 34
        }
      ]
    },
    {
      "cell_type": "code",
      "metadata": {
        "colab": {
          "base_uri": "https://localhost:8080/"
        },
        "id": "lOX0Rs_K0mt4",
        "outputId": "f893862d-8033-41bf-af3f-39a679f381f0"
      },
      "source": [
        "# Division \n",
        "\n",
        "15/3"
      ],
      "execution_count": 35,
      "outputs": [
        {
          "output_type": "execute_result",
          "data": {
            "text/plain": [
              "5.0"
            ]
          },
          "metadata": {
            "tags": []
          },
          "execution_count": 35
        }
      ]
    },
    {
      "cell_type": "code",
      "metadata": {
        "colab": {
          "base_uri": "https://localhost:8080/"
        },
        "id": "UGFcv5Fo1dlA",
        "outputId": "8bd1598d-4eac-45d7-d115-b4557c84721b"
      },
      "source": [
        "# Modulas\n",
        "\n",
        "10%2"
      ],
      "execution_count": 36,
      "outputs": [
        {
          "output_type": "execute_result",
          "data": {
            "text/plain": [
              "0"
            ]
          },
          "metadata": {
            "tags": []
          },
          "execution_count": 36
        }
      ]
    },
    {
      "cell_type": "code",
      "metadata": {
        "colab": {
          "base_uri": "https://localhost:8080/"
        },
        "id": "HyQS-83F1dgk",
        "outputId": "380ecf8b-ec91-4d79-a41e-ed6a57e7f863"
      },
      "source": [
        "# Square\n",
        "\n",
        "10**2"
      ],
      "execution_count": 37,
      "outputs": [
        {
          "output_type": "execute_result",
          "data": {
            "text/plain": [
              "100"
            ]
          },
          "metadata": {
            "tags": []
          },
          "execution_count": 37
        }
      ]
    },
    {
      "cell_type": "code",
      "metadata": {
        "colab": {
          "base_uri": "https://localhost:8080/",
          "height": 35
        },
        "id": "joMuYLYb3IKk",
        "outputId": "3cdaaf68-007d-443d-afaa-e571c61b3f88"
      },
      "source": [
        "# Multiplying a number with a string\n",
        "\n",
        "15 * \"Hello\""
      ],
      "execution_count": 38,
      "outputs": [
        {
          "output_type": "execute_result",
          "data": {
            "application/vnd.google.colaboratory.intrinsic+json": {
              "type": "string"
            },
            "text/plain": [
              "'HelloHelloHelloHelloHelloHelloHelloHelloHelloHelloHelloHelloHelloHelloHello'"
            ]
          },
          "metadata": {
            "tags": []
          },
          "execution_count": 38
        }
      ]
    },
    {
      "cell_type": "markdown",
      "metadata": {
        "id": "1C6d6hH12z_W"
      },
      "source": [
        "### Checking the Data Type"
      ]
    },
    {
      "cell_type": "code",
      "metadata": {
        "colab": {
          "base_uri": "https://localhost:8080/"
        },
        "id": "UgngHZwi1dbm",
        "outputId": "37aaa6ba-7b84-468b-92d8-4ead13573614"
      },
      "source": [
        "type(True)"
      ],
      "execution_count": 39,
      "outputs": [
        {
          "output_type": "execute_result",
          "data": {
            "text/plain": [
              "bool"
            ]
          },
          "metadata": {
            "tags": []
          },
          "execution_count": 39
        }
      ]
    },
    {
      "cell_type": "code",
      "metadata": {
        "colab": {
          "base_uri": "https://localhost:8080/"
        },
        "id": "o8PFx6wb1dT8",
        "outputId": "44f9bf90-d4ca-4f95-a8ca-5760ce0a5f1a"
      },
      "source": [
        "type(\"hello\")"
      ],
      "execution_count": 40,
      "outputs": [
        {
          "output_type": "execute_result",
          "data": {
            "text/plain": [
              "str"
            ]
          },
          "metadata": {
            "tags": []
          },
          "execution_count": 40
        }
      ]
    },
    {
      "cell_type": "markdown",
      "metadata": {
        "id": "CjCN-QQf3yCD"
      },
      "source": [
        "### Strings"
      ]
    },
    {
      "cell_type": "code",
      "metadata": {
        "colab": {
          "base_uri": "https://localhost:8080/",
          "height": 35
        },
        "id": "Y2aOrX4u1dHO",
        "outputId": "5aa92ce8-0294-4868-e019-ffdf8dd75705"
      },
      "source": [
        "\"Hey, I am Swarnava!\""
      ],
      "execution_count": 41,
      "outputs": [
        {
          "output_type": "execute_result",
          "data": {
            "application/vnd.google.colaboratory.intrinsic+json": {
              "type": "string"
            },
            "text/plain": [
              "'Hey, I am Swarnava!'"
            ]
          },
          "metadata": {
            "tags": []
          },
          "execution_count": 41
        }
      ]
    },
    {
      "cell_type": "code",
      "metadata": {
        "colab": {
          "base_uri": "https://localhost:8080/"
        },
        "id": "U-ry5x5r1byW",
        "outputId": "e0c87979-74b4-48a8-b11f-2040dd7047db"
      },
      "source": [
        "type(\"hey, I am Swarnava!\")"
      ],
      "execution_count": 42,
      "outputs": [
        {
          "output_type": "execute_result",
          "data": {
            "text/plain": [
              "str"
            ]
          },
          "metadata": {
            "tags": []
          },
          "execution_count": 42
        }
      ]
    },
    {
      "cell_type": "markdown",
      "metadata": {
        "id": "GZtVVt5A4VJA"
      },
      "source": [
        "### **Variables Assignment**\n",
        "\n",
        "var_name = values "
      ]
    },
    {
      "cell_type": "code",
      "metadata": {
        "id": "fR1A98p-4V9r"
      },
      "source": [
        "a = 10"
      ],
      "execution_count": 43,
      "outputs": []
    },
    {
      "cell_type": "code",
      "metadata": {
        "colab": {
          "base_uri": "https://localhost:8080/"
        },
        "id": "s-RpQq6G4p9R",
        "outputId": "84cfdf3c-68c5-4f51-c01a-f392ab6b6120"
      },
      "source": [
        "type(a)"
      ],
      "execution_count": 44,
      "outputs": [
        {
          "output_type": "execute_result",
          "data": {
            "text/plain": [
              "int"
            ]
          },
          "metadata": {
            "tags": []
          },
          "execution_count": 44
        }
      ]
    },
    {
      "cell_type": "code",
      "metadata": {
        "id": "nOgiL00v4rLJ"
      },
      "source": [
        "b = \"Swarnava\""
      ],
      "execution_count": 45,
      "outputs": []
    },
    {
      "cell_type": "code",
      "metadata": {
        "colab": {
          "base_uri": "https://localhost:8080/"
        },
        "id": "ZSOxZl9T43aG",
        "outputId": "002a4aaf-909b-4a66-94f9-6826670a7c37"
      },
      "source": [
        "type(b)"
      ],
      "execution_count": 46,
      "outputs": [
        {
          "output_type": "execute_result",
          "data": {
            "text/plain": [
              "str"
            ]
          },
          "metadata": {
            "tags": []
          },
          "execution_count": 46
        }
      ]
    },
    {
      "cell_type": "code",
      "metadata": {
        "colab": {
          "base_uri": "https://localhost:8080/"
        },
        "id": "Da14lLngGXVu",
        "outputId": "4890288e-6d1e-4833-d07c-44e4b8d3927f"
      },
      "source": [
        "type(5.6)"
      ],
      "execution_count": 55,
      "outputs": [
        {
          "output_type": "execute_result",
          "data": {
            "text/plain": [
              "float"
            ]
          },
          "metadata": {
            "tags": []
          },
          "execution_count": 55
        }
      ]
    },
    {
      "cell_type": "code",
      "metadata": {
        "colab": {
          "base_uri": "https://localhost:8080/"
        },
        "id": "shl6qFHn44fr",
        "outputId": "a3614146-d166-4441-8a9a-18184d23d793"
      },
      "source": [
        "# Mathematical Operations\n",
        "\n",
        "a = 10\n",
        "b =  20\n",
        "\n",
        "print(a + b)\n",
        "print(a * b)\n",
        "print(b%a)\n",
        "print(a/b)\n",
        "print((a * b)/(a%b)) #BODMAS"
      ],
      "execution_count": 47,
      "outputs": [
        {
          "output_type": "stream",
          "text": [
            "30\n",
            "200\n",
            "0\n",
            "0.5\n",
            "20.0\n"
          ],
          "name": "stdout"
        }
      ]
    },
    {
      "cell_type": "markdown",
      "metadata": {
        "id": "4jHuvAGS6Naa"
      },
      "source": [
        "### **Print Formatting**\n",
        "\n",
        "#### Different ways of printing"
      ]
    },
    {
      "cell_type": "code",
      "metadata": {
        "colab": {
          "base_uri": "https://localhost:8080/"
        },
        "id": "2_4dOrdl6S5w",
        "outputId": "9aa519e6-b6be-4e06-d146-a00550ba63d0"
      },
      "source": [
        "# Way number one\n",
        "\n",
        "print(\"hello world!\")"
      ],
      "execution_count": 48,
      "outputs": [
        {
          "output_type": "stream",
          "text": [
            "hello world!\n"
          ],
          "name": "stdout"
        }
      ]
    },
    {
      "cell_type": "code",
      "metadata": {
        "colab": {
          "base_uri": "https://localhost:8080/"
        },
        "id": "PkVDjYyA6X6K",
        "outputId": "0d57c26d-a331-4f79-e9b7-68117b2f299b"
      },
      "source": [
        "# Way number two\n",
        "\n",
        "first_name = \"Swarnava\"\n",
        "last_name = \"Mukherjee\"\n",
        "\n",
        "print(\"My first name is {} and my last name is {}.\".format(first_name,last_name))"
      ],
      "execution_count": 52,
      "outputs": [
        {
          "output_type": "stream",
          "text": [
            "My first name is Swarnava and my last name is Mukherjee.\n"
          ],
          "name": "stdout"
        }
      ]
    },
    {
      "cell_type": "code",
      "metadata": {
        "colab": {
          "base_uri": "https://localhost:8080/"
        },
        "id": "OASKWkUv690U",
        "outputId": "b7cfbaff-0ec2-4ee5-9d1f-329e96a47834"
      },
      "source": [
        "print(\"My first name is {first} and my last name is {last}.\".format(first = first_name, last = last_name))"
      ],
      "execution_count": 54,
      "outputs": [
        {
          "output_type": "stream",
          "text": [
            "My first name is Swarnava and my last name is Mukherjee.\n"
          ],
          "name": "stdout"
        }
      ]
    },
    {
      "cell_type": "markdown",
      "metadata": {
        "id": "kNPf8T0NGtn0"
      },
      "source": [
        "### **Length**"
      ]
    },
    {
      "cell_type": "code",
      "metadata": {
        "colab": {
          "base_uri": "https://localhost:8080/"
        },
        "id": "4B5-ODWrGxZV",
        "outputId": "5b8404d1-a2b5-4aac-9626-9874155de747"
      },
      "source": [
        "len(\"Swarnava\")"
      ],
      "execution_count": 56,
      "outputs": [
        {
          "output_type": "execute_result",
          "data": {
            "text/plain": [
              "8"
            ]
          },
          "metadata": {
            "tags": []
          },
          "execution_count": 56
        }
      ]
    }
  ]
}