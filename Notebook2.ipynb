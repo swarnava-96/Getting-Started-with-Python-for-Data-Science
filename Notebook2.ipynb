{
  "nbformat": 4,
  "nbformat_minor": 0,
  "metadata": {
    "colab": {
      "name": "Notebook2",
      "provenance": [],
      "authorship_tag": "ABX9TyOzAWWgbkb/Cu6YkRonOGni",
      "include_colab_link": true
    },
    "kernelspec": {
      "name": "python3",
      "display_name": "Python 3"
    },
    "language_info": {
      "name": "python"
    }
  },
  "cells": [
    {
      "cell_type": "markdown",
      "metadata": {
        "id": "view-in-github",
        "colab_type": "text"
      },
      "source": [
        "<a href=\"https://colab.research.google.com/github/swarnava-96/Getting-Started-with-Python-for-Data-Science/blob/main/Notebook2.ipynb\" target=\"_parent\"><img src=\"https://colab.research.google.com/assets/colab-badge.svg\" alt=\"Open In Colab\"/></a>"
      ]
    },
    {
      "cell_type": "markdown",
      "metadata": {
        "id": "1gBNLeoONCuD"
      },
      "source": [
        "# **Data Structures and Boolean**"
      ]
    },
    {
      "cell_type": "markdown",
      "metadata": {
        "id": "9-eW9Iy4NLDy"
      },
      "source": [
        "### **Topics Covered**\n",
        "\n",
        "\n",
        "\n",
        "1.   Boolean\n",
        "2.   Boolean and Logical Operators\n",
        "3.   List\n",
        "4.   Sets\n",
        "5.   Dictionaries\n",
        "6.   Tuples\n",
        "\n"
      ]
    },
    {
      "cell_type": "markdown",
      "metadata": {
        "id": "NmSPjQufNqZ9"
      },
      "source": [
        "### Boolean\n",
        "\n",
        "Boolean values are the two constant objects False and True.\n",
        "\n",
        "They are used to represent truth values (other values can also be considered false or true).\n",
        "\n",
        "In numeric contexts (for example, when used as the argument to an arithmetic operator), they behave like the integers 0 and 1, respectively.\n",
        "\n",
        "The built-in function bool() can be used to cast any value to a Boolean, if the value can be interpreted as a truth value\n",
        "\n",
        "They are written as False and True, respectively."
      ]
    },
    {
      "cell_type": "code",
      "metadata": {
        "colab": {
          "base_uri": "https://localhost:8080/"
        },
        "id": "wIJ3qIDYNrjL",
        "outputId": "d6e8ba4d-438e-4042-9203-d447818ccdc7"
      },
      "source": [
        "False"
      ],
      "execution_count": 1,
      "outputs": [
        {
          "output_type": "execute_result",
          "data": {
            "text/plain": [
              "False"
            ]
          },
          "metadata": {
            "tags": []
          },
          "execution_count": 1
        }
      ]
    },
    {
      "cell_type": "code",
      "metadata": {
        "colab": {
          "base_uri": "https://localhost:8080/"
        },
        "id": "W5r2fW5GqBy9",
        "outputId": "6dabc5ec-0157-49d9-f4fc-883bfcc756f4"
      },
      "source": [
        "print(type(True))\n",
        "print(type(False))"
      ],
      "execution_count": 2,
      "outputs": [
        {
          "output_type": "stream",
          "text": [
            "<class 'bool'>\n",
            "<class 'bool'>\n"
          ],
          "name": "stdout"
        }
      ]
    },
    {
      "cell_type": "code",
      "metadata": {
        "id": "9kmIQ_qFqS4s"
      },
      "source": [
        "my_str = \"swarnava123\""
      ],
      "execution_count": 3,
      "outputs": []
    },
    {
      "cell_type": "code",
      "metadata": {
        "colab": {
          "base_uri": "https://localhost:8080/"
        },
        "id": "AAzyv33KqYoh",
        "outputId": "737bd549-55a4-493b-85f0-490aa68f77c2"
      },
      "source": [
        "#check if all char are numbers\n",
        "print(my_str.isalnum())\n",
        "\n",
        "#check if all char in the string are alphabetic\n",
        "print(my_str.isalpha()) \n",
        "\n",
        "#test if string contains digits\n",
        "print(my_str.isdigit()) \n",
        "\n",
        "#test if string contains title words\n",
        "print(my_str.istitle()) \n",
        "\n",
        "#test if string contains upper case\n",
        "print(my_str.isupper())\n",
        "\n",
        "#test if string contains lower case\n",
        "print(my_str.islower()) \n",
        "\n",
        "#test if string contains spaces\n",
        "print(my_str.isspace()) \n",
        "\n",
        "#test if string endswith a a\n",
        "print(my_str.endswith('a')) \n",
        "\n",
        "#test if string startswith s\n",
        "print(my_str.startswith('s')) \n",
        "\n",
        "#test if string has title(starts with a capital letter)\n",
        "print(my_str.istitle())"
      ],
      "execution_count": 6,
      "outputs": [
        {
          "output_type": "stream",
          "text": [
            "True\n",
            "False\n",
            "False\n",
            "False\n",
            "False\n",
            "True\n",
            "False\n",
            "False\n",
            "True\n",
            "False\n"
          ],
          "name": "stdout"
        }
      ]
    },
    {
      "cell_type": "markdown",
      "metadata": {
        "id": "QWhKHTXpr2Sl"
      },
      "source": [
        "### Boolean and Logical Operators"
      ]
    },
    {
      "cell_type": "code",
      "metadata": {
        "colab": {
          "base_uri": "https://localhost:8080/"
        },
        "id": "ndAV7ZTcr5pj",
        "outputId": "1bbdc910-cc4b-4a8a-ca3c-3399d43d66cd"
      },
      "source": [
        "True and True"
      ],
      "execution_count": 7,
      "outputs": [
        {
          "output_type": "execute_result",
          "data": {
            "text/plain": [
              "True"
            ]
          },
          "metadata": {
            "tags": []
          },
          "execution_count": 7
        }
      ]
    },
    {
      "cell_type": "code",
      "metadata": {
        "colab": {
          "base_uri": "https://localhost:8080/"
        },
        "id": "7GBmiVWkr9Oc",
        "outputId": "be1d316b-bd61-42f0-9b4d-4199225d54ee"
      },
      "source": [
        "True and False"
      ],
      "execution_count": 8,
      "outputs": [
        {
          "output_type": "execute_result",
          "data": {
            "text/plain": [
              "False"
            ]
          },
          "metadata": {
            "tags": []
          },
          "execution_count": 8
        }
      ]
    },
    {
      "cell_type": "code",
      "metadata": {
        "colab": {
          "base_uri": "https://localhost:8080/"
        },
        "id": "QPUco8vFr_g6",
        "outputId": "5cd80c58-54b2-4c94-8786-0455835d6178"
      },
      "source": [
        "True or False"
      ],
      "execution_count": 9,
      "outputs": [
        {
          "output_type": "execute_result",
          "data": {
            "text/plain": [
              "True"
            ]
          },
          "metadata": {
            "tags": []
          },
          "execution_count": 9
        }
      ]
    },
    {
      "cell_type": "code",
      "metadata": {
        "colab": {
          "base_uri": "https://localhost:8080/"
        },
        "id": "8DWyCwvQsCBk",
        "outputId": "c15eca8d-483a-4dc6-e270-c9db905a1a70"
      },
      "source": [
        "True or True"
      ],
      "execution_count": 10,
      "outputs": [
        {
          "output_type": "execute_result",
          "data": {
            "text/plain": [
              "True"
            ]
          },
          "metadata": {
            "tags": []
          },
          "execution_count": 10
        }
      ]
    },
    {
      "cell_type": "code",
      "metadata": {
        "id": "XwmpsAbDsEdW"
      },
      "source": [
        "str_example='Hello World'\n",
        "my_str='Swarnava'"
      ],
      "execution_count": 11,
      "outputs": []
    },
    {
      "cell_type": "code",
      "metadata": {
        "colab": {
          "base_uri": "https://localhost:8080/"
        },
        "id": "2MFNPDF_sIij",
        "outputId": "0750f36c-b781-42eb-97e9-cde4cc51ac56"
      },
      "source": [
        "my_str.isalpha() or str_example.isalnum()  # As the first condition is True"
      ],
      "execution_count": 12,
      "outputs": [
        {
          "output_type": "execute_result",
          "data": {
            "text/plain": [
              "True"
            ]
          },
          "metadata": {
            "tags": []
          },
          "execution_count": 12
        }
      ]
    },
    {
      "cell_type": "markdown",
      "metadata": {
        "id": "LnPpoiXmseTC"
      },
      "source": [
        "### Lists\n",
        "A list is a data structure in Python that is a mutable, or changeable, ordered sequence of elements. Each element or value that is inside of a list is called an item. Just as strings are defined as characters between quotes, lists are defined by having values between square brackets [ ]"
      ]
    },
    {
      "cell_type": "code",
      "metadata": {
        "colab": {
          "base_uri": "https://localhost:8080/"
        },
        "id": "dCgHQnZosgFX",
        "outputId": "f570755e-cdd5-427b-e45c-f61aec8b9258"
      },
      "source": [
        "type([])"
      ],
      "execution_count": 13,
      "outputs": [
        {
          "output_type": "execute_result",
          "data": {
            "text/plain": [
              "list"
            ]
          },
          "metadata": {
            "tags": []
          },
          "execution_count": 13
        }
      ]
    },
    {
      "cell_type": "code",
      "metadata": {
        "id": "scZfLPSSsmj1"
      },
      "source": [
        "# Creating an empty list\n",
        "\n",
        "list_example = []"
      ],
      "execution_count": 14,
      "outputs": []
    },
    {
      "cell_type": "code",
      "metadata": {
        "colab": {
          "base_uri": "https://localhost:8080/"
        },
        "id": "Z7s2seNZsq5s",
        "outputId": "5378976b-96b0-40b7-ee7d-237b4e25134f"
      },
      "source": [
        "type(list_example)"
      ],
      "execution_count": 15,
      "outputs": [
        {
          "output_type": "execute_result",
          "data": {
            "text/plain": [
              "list"
            ]
          },
          "metadata": {
            "tags": []
          },
          "execution_count": 15
        }
      ]
    },
    {
      "cell_type": "code",
      "metadata": {
        "id": "ak9-P7Mmsspv"
      },
      "source": [
        "# We can also create an empty list like this way\n",
        "\n",
        "list = list()  "
      ],
      "execution_count": 16,
      "outputs": []
    },
    {
      "cell_type": "code",
      "metadata": {
        "colab": {
          "base_uri": "https://localhost:8080/"
        },
        "id": "eVpJQUUWsw1V",
        "outputId": "5a9ac0b2-bccc-4a22-bc89-6b6895c0fe1e"
      },
      "source": [
        "type(list)"
      ],
      "execution_count": 17,
      "outputs": [
        {
          "output_type": "execute_result",
          "data": {
            "text/plain": [
              "list"
            ]
          },
          "metadata": {
            "tags": []
          },
          "execution_count": 17
        }
      ]
    },
    {
      "cell_type": "code",
      "metadata": {
        "id": "HrbJb2GisySC"
      },
      "source": [
        "list=['Mathematics', 'chemistry', 100, 200, 300, 204]"
      ],
      "execution_count": 18,
      "outputs": []
    },
    {
      "cell_type": "code",
      "metadata": {
        "colab": {
          "base_uri": "https://localhost:8080/"
        },
        "id": "6G7wPGRltGDe",
        "outputId": "e3f3b170-c14c-4314-b167-a6c363bb4da4"
      },
      "source": [
        "type(list)"
      ],
      "execution_count": 19,
      "outputs": [
        {
          "output_type": "execute_result",
          "data": {
            "text/plain": [
              "list"
            ]
          },
          "metadata": {
            "tags": []
          },
          "execution_count": 19
        }
      ]
    },
    {
      "cell_type": "code",
      "metadata": {
        "colab": {
          "base_uri": "https://localhost:8080/"
        },
        "id": "bD4h-M8AtHJq",
        "outputId": "ba45d351-5444-4de0-d4a2-54ed87bdd0d6"
      },
      "source": [
        "# Checking the length of the list(indexing in length starts from 1 and not 0)\n",
        "\n",
        "len(list)"
      ],
      "execution_count": 20,
      "outputs": [
        {
          "output_type": "execute_result",
          "data": {
            "text/plain": [
              "6"
            ]
          },
          "metadata": {
            "tags": []
          },
          "execution_count": 20
        }
      ]
    },
    {
      "cell_type": "code",
      "metadata": {
        "id": "xaq7SBkxtf58"
      },
      "source": [
        "# Append is used to add elements in the list. The element gets added at the last.\n",
        "\n",
        "list.append('Swarnava')"
      ],
      "execution_count": 21,
      "outputs": []
    },
    {
      "cell_type": "code",
      "metadata": {
        "colab": {
          "base_uri": "https://localhost:8080/"
        },
        "id": "LPqOt2zJtwJi",
        "outputId": "38b704aa-60de-4d4b-ea6d-9287bab08179"
      },
      "source": [
        "list"
      ],
      "execution_count": 22,
      "outputs": [
        {
          "output_type": "execute_result",
          "data": {
            "text/plain": [
              "['Mathematics', 'chemistry', 100, 200, 300, 204, 'Swarnava']"
            ]
          },
          "metadata": {
            "tags": []
          },
          "execution_count": 22
        }
      ]
    },
    {
      "cell_type": "code",
      "metadata": {
        "id": "LKihxOwMtw4P"
      },
      "source": [
        "# Nested list\n",
        "\n",
        "list.append(['Abhishek', 'Pushpok'])"
      ],
      "execution_count": 24,
      "outputs": []
    },
    {
      "cell_type": "code",
      "metadata": {
        "colab": {
          "base_uri": "https://localhost:8080/"
        },
        "id": "8Z8rvy6Zt5yO",
        "outputId": "8fb5e027-4e44-4e55-992a-1795acd062ff"
      },
      "source": [
        "list"
      ],
      "execution_count": 25,
      "outputs": [
        {
          "output_type": "execute_result",
          "data": {
            "text/plain": [
              "['Mathematics',\n",
              " 'chemistry',\n",
              " 100,\n",
              " 200,\n",
              " 300,\n",
              " 204,\n",
              " 'Swarnava',\n",
              " ['Abhishek', 'Pushpok']]"
            ]
          },
          "metadata": {
            "tags": []
          },
          "execution_count": 25
        }
      ]
    },
    {
      "cell_type": "code",
      "metadata": {
        "colab": {
          "base_uri": "https://localhost:8080/",
          "height": 35
        },
        "id": "jX-k7If9t-3y",
        "outputId": "eac81417-04eb-4a64-929e-221c94133d6a"
      },
      "source": [
        "# Indexing in List(here indexing starts from 0)\n",
        "\n",
        "list[6]"
      ],
      "execution_count": 26,
      "outputs": [
        {
          "output_type": "execute_result",
          "data": {
            "application/vnd.google.colaboratory.intrinsic+json": {
              "type": "string"
            },
            "text/plain": [
              "'Swarnava'"
            ]
          },
          "metadata": {
            "tags": []
          },
          "execution_count": 26
        }
      ]
    },
    {
      "cell_type": "code",
      "metadata": {
        "colab": {
          "base_uri": "https://localhost:8080/"
        },
        "id": "kZFnOfyguLgf",
        "outputId": "9103ae9f-ea60-40c2-9c8d-6c19ad7079e1"
      },
      "source": [
        "# Slicing in a list(here the last element is ignored,starting element is considered)\n",
        "\n",
        "list[1:6]"
      ],
      "execution_count": 27,
      "outputs": [
        {
          "output_type": "execute_result",
          "data": {
            "text/plain": [
              "['chemistry', 100, 200, 300, 204]"
            ]
          },
          "metadata": {
            "tags": []
          },
          "execution_count": 27
        }
      ]
    },
    {
      "cell_type": "code",
      "metadata": {
        "id": "z5tBl_q2upv0"
      },
      "source": [
        "# Insert in a specific order(here indexing starts from 0)\n",
        "\n",
        "list.insert(2, 'Mukherjee')"
      ],
      "execution_count": 28,
      "outputs": []
    },
    {
      "cell_type": "code",
      "metadata": {
        "colab": {
          "base_uri": "https://localhost:8080/"
        },
        "id": "VQ4JQNjtvPU4",
        "outputId": "77bd81e1-65a0-4e0d-943d-8e206833d8e5"
      },
      "source": [
        "list"
      ],
      "execution_count": 29,
      "outputs": [
        {
          "output_type": "execute_result",
          "data": {
            "text/plain": [
              "['Mathematics',\n",
              " 'chemistry',\n",
              " 'Mukherjee',\n",
              " 100,\n",
              " 200,\n",
              " 300,\n",
              " 204,\n",
              " 'Swarnava',\n",
              " ['Abhishek', 'Pushpok']]"
            ]
          },
          "metadata": {
            "tags": []
          },
          "execution_count": 29
        }
      ]
    },
    {
      "cell_type": "code",
      "metadata": {
        "id": "PQW12PcdvP7U"
      },
      "source": [
        "list.append(\"Hello World\")  # adds as an item"
      ],
      "execution_count": 30,
      "outputs": []
    },
    {
      "cell_type": "code",
      "metadata": {
        "colab": {
          "base_uri": "https://localhost:8080/"
        },
        "id": "vzbdUcJXvaCT",
        "outputId": "b88c5699-0fcc-405c-e572-7345b0fa25b4"
      },
      "source": [
        "list"
      ],
      "execution_count": 31,
      "outputs": [
        {
          "output_type": "execute_result",
          "data": {
            "text/plain": [
              "['Mathematics',\n",
              " 'chemistry',\n",
              " 'Mukherjee',\n",
              " 100,\n",
              " 200,\n",
              " 300,\n",
              " 204,\n",
              " 'Swarnava',\n",
              " ['Abhishek', 'Pushpok'],\n",
              " 'Hello World']"
            ]
          },
          "metadata": {
            "tags": []
          },
          "execution_count": 31
        }
      ]
    },
    {
      "cell_type": "code",
      "metadata": {
        "id": "wBOAMoFkvcGa"
      },
      "source": [
        "list.append([\"Hello\",\"World\"]) # adds as a nested list"
      ],
      "execution_count": 32,
      "outputs": []
    },
    {
      "cell_type": "code",
      "metadata": {
        "colab": {
          "base_uri": "https://localhost:8080/"
        },
        "id": "KpzjwP6ovmXk",
        "outputId": "37a6fb5d-9479-4d0b-eb6e-8de935b2e53d"
      },
      "source": [
        "list"
      ],
      "execution_count": 33,
      "outputs": [
        {
          "output_type": "execute_result",
          "data": {
            "text/plain": [
              "['Mathematics',\n",
              " 'chemistry',\n",
              " 'Mukherjee',\n",
              " 100,\n",
              " 200,\n",
              " 300,\n",
              " 204,\n",
              " 'Swarnava',\n",
              " ['Abhishek', 'Pushpok'],\n",
              " 'Hello World',\n",
              " ['Hello', 'World']]"
            ]
          },
          "metadata": {
            "tags": []
          },
          "execution_count": 33
        }
      ]
    },
    {
      "cell_type": "code",
      "metadata": {
        "id": "_Xv0FQ7pvnDp"
      },
      "source": [
        "list = [1,2,3]"
      ],
      "execution_count": 34,
      "outputs": []
    },
    {
      "cell_type": "code",
      "metadata": {
        "id": "dZrDOPv_vwaM"
      },
      "source": [
        "list.append([4, 5])"
      ],
      "execution_count": 35,
      "outputs": []
    },
    {
      "cell_type": "code",
      "metadata": {
        "colab": {
          "base_uri": "https://localhost:8080/"
        },
        "id": "NJ_LFKR7vzJh",
        "outputId": "53e51e75-c44f-4823-cc2a-43e9ce7033f5"
      },
      "source": [
        "list"
      ],
      "execution_count": 36,
      "outputs": [
        {
          "output_type": "execute_result",
          "data": {
            "text/plain": [
              "[1, 2, 3, [4, 5]]"
            ]
          },
          "metadata": {
            "tags": []
          },
          "execution_count": 36
        }
      ]
    },
    {
      "cell_type": "code",
      "metadata": {
        "colab": {
          "base_uri": "https://localhost:8080/"
        },
        "id": "4LkWZWWKvzl1",
        "outputId": "47f93539-263d-4aec-cb0a-8201f0f96e11"
      },
      "source": [
        "# Extend Method\n",
        "\n",
        "list = [1, 2, 3, 4, 5, 6]  #here it get adds as different items and not as a nested list\n",
        "list.extend([7, 8])\n",
        "list"
      ],
      "execution_count": 37,
      "outputs": [
        {
          "output_type": "execute_result",
          "data": {
            "text/plain": [
              "[1, 2, 3, 4, 5, 6, 7, 8]"
            ]
          },
          "metadata": {
            "tags": []
          },
          "execution_count": 37
        }
      ]
    },
    {
      "cell_type": "code",
      "metadata": {
        "colab": {
          "base_uri": "https://localhost:8080/"
        },
        "id": "yR2GADBpwCIc",
        "outputId": "3f750d94-10f7-4d2f-d65d-bdaa65d40e7d"
      },
      "source": [
        "# Various Operations that we can perform in List\n",
        "\n",
        "list=[1,2,3,4,5]\n",
        "\n",
        "print(sum(list))  # Adding all the items in the list\n",
        "\n",
        "print(list*5)     # the list itself gets multiplied 5 times"
      ],
      "execution_count": 38,
      "outputs": [
        {
          "output_type": "stream",
          "text": [
            "15\n",
            "[1, 2, 3, 4, 5, 1, 2, 3, 4, 5, 1, 2, 3, 4, 5, 1, 2, 3, 4, 5, 1, 2, 3, 4, 5]\n"
          ],
          "name": "stdout"
        }
      ]
    },
    {
      "cell_type": "code",
      "metadata": {
        "colab": {
          "base_uri": "https://localhost:8080/"
        },
        "id": "TnIa-tQmwh7t",
        "outputId": "818bcba9-d9f5-4d29-dd4a-2175321ed2ae"
      },
      "source": [
        "# Pop() Method\n",
        "\n",
        "list = [1, 2, 3, 4, 5, 6, 7, 8]\n",
        "\n",
        "list.pop() # deletes the last item"
      ],
      "execution_count": 39,
      "outputs": [
        {
          "output_type": "execute_result",
          "data": {
            "text/plain": [
              "8"
            ]
          },
          "metadata": {
            "tags": []
          },
          "execution_count": 39
        }
      ]
    },
    {
      "cell_type": "code",
      "metadata": {
        "colab": {
          "base_uri": "https://localhost:8080/"
        },
        "id": "XuPxo9nvw7zL",
        "outputId": "1d22ccd3-57a3-4023-e5ec-9d65dc630bb3"
      },
      "source": [
        "list"
      ],
      "execution_count": 40,
      "outputs": [
        {
          "output_type": "execute_result",
          "data": {
            "text/plain": [
              "[1, 2, 3, 4, 5, 6, 7]"
            ]
          },
          "metadata": {
            "tags": []
          },
          "execution_count": 40
        }
      ]
    },
    {
      "cell_type": "code",
      "metadata": {
        "colab": {
          "base_uri": "https://localhost:8080/"
        },
        "id": "D8qE76yDxCHy",
        "outputId": "4042625c-78db-455a-e3bd-586cd2837c8f"
      },
      "source": [
        "list.pop(0)  # Deletes the first item"
      ],
      "execution_count": 41,
      "outputs": [
        {
          "output_type": "execute_result",
          "data": {
            "text/plain": [
              "1"
            ]
          },
          "metadata": {
            "tags": []
          },
          "execution_count": 41
        }
      ]
    },
    {
      "cell_type": "code",
      "metadata": {
        "colab": {
          "base_uri": "https://localhost:8080/"
        },
        "id": "bAsM8rV5xV0s",
        "outputId": "3e8473d3-97bd-4828-e842-d73daf9de93f"
      },
      "source": [
        "list"
      ],
      "execution_count": 42,
      "outputs": [
        {
          "output_type": "execute_result",
          "data": {
            "text/plain": [
              "[2, 3, 4, 5, 6, 7]"
            ]
          },
          "metadata": {
            "tags": []
          },
          "execution_count": 42
        }
      ]
    },
    {
      "cell_type": "code",
      "metadata": {
        "colab": {
          "base_uri": "https://localhost:8080/"
        },
        "id": "6Y7ju76XxXQA",
        "outputId": "46d81287-5525-4262-e4b7-de3e6cdb4686"
      },
      "source": [
        "# count(): Calculates total occurrence of given element of List.\n",
        "\n",
        "list = [1, 1, 2, 3, 4, 5]\n",
        "list.count(1)"
      ],
      "execution_count": 43,
      "outputs": [
        {
          "output_type": "execute_result",
          "data": {
            "text/plain": [
              "2"
            ]
          },
          "metadata": {
            "tags": []
          },
          "execution_count": 43
        }
      ]
    },
    {
      "cell_type": "code",
      "metadata": {
        "colab": {
          "base_uri": "https://localhost:8080/"
        },
        "id": "KFq-1p79xriq",
        "outputId": "58d508fd-28bb-41bf-bdcc-9bc79373887e"
      },
      "source": [
        "# length:Calculates total length of List\n",
        "\n",
        "len(list)"
      ],
      "execution_count": 44,
      "outputs": [
        {
          "output_type": "execute_result",
          "data": {
            "text/plain": [
              "6"
            ]
          },
          "metadata": {
            "tags": []
          },
          "execution_count": 44
        }
      ]
    },
    {
      "cell_type": "code",
      "metadata": {
        "colab": {
          "base_uri": "https://localhost:8080/"
        },
        "id": "sAc2ioOExxaA",
        "outputId": "40960658-d9db-49f0-e236-abc9f6b8029c"
      },
      "source": [
        "# index(): Returns the index of first occurrence. Start and End index are not necessary parameters.\n",
        "\n",
        "list.index(1,1,4)"
      ],
      "execution_count": 47,
      "outputs": [
        {
          "output_type": "execute_result",
          "data": {
            "text/plain": [
              "1"
            ]
          },
          "metadata": {
            "tags": []
          },
          "execution_count": 47
        }
      ]
    },
    {
      "cell_type": "code",
      "metadata": {
        "colab": {
          "base_uri": "https://localhost:8080/"
        },
        "id": "vq1f-OIjx4r9",
        "outputId": "010596ef-6e67-4b81-c8f5-8c70e2dbed21"
      },
      "source": [
        "## Min and Max\n",
        "\n",
        "print(list)\n",
        "print(\"The min value in list is\", min(list))\n",
        "print(\"The max value in list is\", max(list))"
      ],
      "execution_count": 50,
      "outputs": [
        {
          "output_type": "stream",
          "text": [
            "[1, 1, 2, 3, 4, 5]\n",
            "The min value in list is 1\n",
            "The max value in list is 5\n"
          ],
          "name": "stdout"
        }
      ]
    },
    {
      "cell_type": "markdown",
      "metadata": {
        "id": "RL_nkhbkydf6"
      },
      "source": [
        "### SETS\n",
        "A Set is an unordered collection data type that is iterable, mutable, and has no duplicate elements. Python's set class represents the mathematical notion of a set.This is based on a data structure known as a hash table."
      ]
    },
    {
      "cell_type": "code",
      "metadata": {
        "colab": {
          "base_uri": "https://localhost:8080/"
        },
        "id": "JEGWWPEyyfPR",
        "outputId": "51afbe3d-9385-4225-eaf6-d8fe16108a6a"
      },
      "source": [
        "# Defining an empty set\n",
        "\n",
        "set_var = set()\n",
        "print(set_var)\n",
        "print(type(set_var))"
      ],
      "execution_count": 53,
      "outputs": [
        {
          "output_type": "stream",
          "text": [
            "set()\n",
            "<class 'set'>\n"
          ],
          "name": "stdout"
        }
      ]
    },
    {
      "cell_type": "code",
      "metadata": {
        "colab": {
          "base_uri": "https://localhost:8080/"
        },
        "id": "Asp73LZ2y07X",
        "outputId": "04395527-f274-41f2-aaad-c8a26d421694"
      },
      "source": [
        "set_var={\"Avengers\",\"IronMan\",'Hitman'}\n",
        "print(set_var)\n",
        "type(set_var)"
      ],
      "execution_count": 54,
      "outputs": [
        {
          "output_type": "stream",
          "text": [
            "{'Avengers', 'Hitman', 'IronMan'}\n"
          ],
          "name": "stdout"
        },
        {
          "output_type": "execute_result",
          "data": {
            "text/plain": [
              "set"
            ]
          },
          "metadata": {
            "tags": []
          },
          "execution_count": 54
        }
      ]
    },
    {
      "cell_type": "code",
      "metadata": {
        "colab": {
          "base_uri": "https://localhost:8080/"
        },
        "id": "rvzfsMqvzDOG",
        "outputId": "2118d0ab-d693-497d-c955-8e897fe4eb94"
      },
      "source": [
        "## Inbuilt function in sets\n",
        "\n",
        "set_var.add('Hulk')\n",
        "set_var"
      ],
      "execution_count": 56,
      "outputs": [
        {
          "output_type": "execute_result",
          "data": {
            "text/plain": [
              "{'Avengers', 'Hitman', 'Hulk', 'IronMan'}"
            ]
          },
          "metadata": {
            "tags": []
          },
          "execution_count": 56
        }
      ]
    },
    {
      "cell_type": "code",
      "metadata": {
        "id": "f4GQ2bzyzK9z"
      },
      "source": [
        "set1={\"Avengers\",\"IronMan\",'Hitman'}\n",
        "set2={\"Avengers\",\"IronMan\",'Hitman','Hulk2'}"
      ],
      "execution_count": 57,
      "outputs": []
    },
    {
      "cell_type": "code",
      "metadata": {
        "colab": {
          "base_uri": "https://localhost:8080/"
        },
        "id": "KTEu2vGkzUys",
        "outputId": "4aca8737-21ee-4eb6-eb6a-efcb9c570deb"
      },
      "source": [
        "set2.intersection(set1)"
      ],
      "execution_count": 58,
      "outputs": [
        {
          "output_type": "execute_result",
          "data": {
            "text/plain": [
              "{'Avengers', 'Hitman', 'IronMan'}"
            ]
          },
          "metadata": {
            "tags": []
          },
          "execution_count": 58
        }
      ]
    },
    {
      "cell_type": "code",
      "metadata": {
        "colab": {
          "base_uri": "https://localhost:8080/"
        },
        "id": "151AWtDgzaIw",
        "outputId": "7d38b40c-aae9-4021-dedd-60318f69c72d"
      },
      "source": [
        "set2  # Change is not permanent"
      ],
      "execution_count": 59,
      "outputs": [
        {
          "output_type": "execute_result",
          "data": {
            "text/plain": [
              "{'Avengers', 'Hitman', 'Hulk2', 'IronMan'}"
            ]
          },
          "metadata": {
            "tags": []
          },
          "execution_count": 59
        }
      ]
    },
    {
      "cell_type": "code",
      "metadata": {
        "id": "Qb2MkCfKzcFZ"
      },
      "source": [
        "set2.intersection_update(set1)"
      ],
      "execution_count": 61,
      "outputs": []
    },
    {
      "cell_type": "code",
      "metadata": {
        "colab": {
          "base_uri": "https://localhost:8080/"
        },
        "id": "BAfPzdCczl3v",
        "outputId": "c325e091-18dc-4940-ab23-20fd828422b5"
      },
      "source": [
        "set2  # Now change is permanent"
      ],
      "execution_count": 62,
      "outputs": [
        {
          "output_type": "execute_result",
          "data": {
            "text/plain": [
              "{'Avengers', 'Hitman', 'IronMan'}"
            ]
          },
          "metadata": {
            "tags": []
          },
          "execution_count": 62
        }
      ]
    },
    {
      "cell_type": "code",
      "metadata": {
        "colab": {
          "base_uri": "https://localhost:8080/"
        },
        "id": "tJ5tdZSvzpmb",
        "outputId": "3655de22-5f73-4b90-acd6-3e462a0d535b"
      },
      "source": [
        "# Difference \n",
        "\n",
        "set1={\"Avengers\",\"IronMan\",'Hitman'}\n",
        "set2={\"Avengers\",\"IronMan\",'Hitman','Hulk2'}\n",
        "\n",
        "set2.difference(set1)"
      ],
      "execution_count": 64,
      "outputs": [
        {
          "output_type": "execute_result",
          "data": {
            "text/plain": [
              "{'Hulk2'}"
            ]
          },
          "metadata": {
            "tags": []
          },
          "execution_count": 64
        }
      ]
    },
    {
      "cell_type": "code",
      "metadata": {
        "colab": {
          "base_uri": "https://localhost:8080/"
        },
        "id": "ja0SD5qlzx6W",
        "outputId": "50816d65-71a2-40d4-8547-bfa3d50b5c46"
      },
      "source": [
        "set2   # again change is not permanent"
      ],
      "execution_count": 65,
      "outputs": [
        {
          "output_type": "execute_result",
          "data": {
            "text/plain": [
              "{'Avengers', 'Hitman', 'Hulk2', 'IronMan'}"
            ]
          },
          "metadata": {
            "tags": []
          },
          "execution_count": 65
        }
      ]
    },
    {
      "cell_type": "code",
      "metadata": {
        "id": "HbRu27iwz_Pg"
      },
      "source": [
        "set2.difference_update(set1)"
      ],
      "execution_count": 66,
      "outputs": []
    },
    {
      "cell_type": "code",
      "metadata": {
        "colab": {
          "base_uri": "https://localhost:8080/"
        },
        "id": "osRVB1VC0HEm",
        "outputId": "2278e35a-fd87-418c-fafd-a4e5e75fcc6c"
      },
      "source": [
        "set2   # now change is permanent"
      ],
      "execution_count": 67,
      "outputs": [
        {
          "output_type": "execute_result",
          "data": {
            "text/plain": [
              "{'Hulk2'}"
            ]
          },
          "metadata": {
            "tags": []
          },
          "execution_count": 67
        }
      ]
    },
    {
      "cell_type": "markdown",
      "metadata": {
        "id": "V_zW0FAd0Qpy"
      },
      "source": [
        "### Dictionaries\n",
        "A dictionary is a collection which is unordered, changeable and indexed. In Python dictionaries are written with curly brackets, and they have keys and values."
      ]
    },
    {
      "cell_type": "code",
      "metadata": {
        "id": "FpvkLtKG0Rsl"
      },
      "source": [
        "dic = {}"
      ],
      "execution_count": 68,
      "outputs": []
    },
    {
      "cell_type": "code",
      "metadata": {
        "colab": {
          "base_uri": "https://localhost:8080/"
        },
        "id": "-yOsA4ot0Voc",
        "outputId": "d56d02d1-5a40-4721-9ee1-94cb14ee592d"
      },
      "source": [
        "type(dic)"
      ],
      "execution_count": 69,
      "outputs": [
        {
          "output_type": "execute_result",
          "data": {
            "text/plain": [
              "dict"
            ]
          },
          "metadata": {
            "tags": []
          },
          "execution_count": 69
        }
      ]
    },
    {
      "cell_type": "code",
      "metadata": {
        "id": "8q6LCObk0XvE"
      },
      "source": [
        "set_ex={1,2,3,4,5}"
      ],
      "execution_count": 70,
      "outputs": []
    },
    {
      "cell_type": "code",
      "metadata": {
        "colab": {
          "base_uri": "https://localhost:8080/"
        },
        "id": "1Ub8sSQV0jnk",
        "outputId": "b4200f29-4820-4cc8-ee7c-9a18820a0132"
      },
      "source": [
        "type(set_ex)"
      ],
      "execution_count": 71,
      "outputs": [
        {
          "output_type": "execute_result",
          "data": {
            "text/plain": [
              "set"
            ]
          },
          "metadata": {
            "tags": []
          },
          "execution_count": 71
        }
      ]
    },
    {
      "cell_type": "code",
      "metadata": {
        "id": "xwf2eLMi0lZC"
      },
      "source": [
        "# Let create a dictionary\n",
        "\n",
        "my_dict={\"Car1\": \"Audi\", \"Car2\":\"BMW\",\"Car3\":\"Mercidies Benz\"}"
      ],
      "execution_count": 72,
      "outputs": []
    },
    {
      "cell_type": "code",
      "metadata": {
        "colab": {
          "base_uri": "https://localhost:8080/"
        },
        "id": "0XIe8Dot0oUp",
        "outputId": "5ab03e0f-f678-4b5e-8ebf-6bcd6e0451f8"
      },
      "source": [
        "type(my_dict)"
      ],
      "execution_count": 73,
      "outputs": [
        {
          "output_type": "execute_result",
          "data": {
            "text/plain": [
              "dict"
            ]
          },
          "metadata": {
            "tags": []
          },
          "execution_count": 73
        }
      ]
    },
    {
      "cell_type": "code",
      "metadata": {
        "colab": {
          "base_uri": "https://localhost:8080/",
          "height": 35
        },
        "id": "12WobiWA0qQl",
        "outputId": "45065ad8-210f-41ff-d61a-fe05c961ddee"
      },
      "source": [
        "#Access the item values based on keys\n",
        "\n",
        "my_dict['Car1']"
      ],
      "execution_count": 74,
      "outputs": [
        {
          "output_type": "execute_result",
          "data": {
            "application/vnd.google.colaboratory.intrinsic+json": {
              "type": "string"
            },
            "text/plain": [
              "'Audi'"
            ]
          },
          "metadata": {
            "tags": []
          },
          "execution_count": 74
        }
      ]
    },
    {
      "cell_type": "code",
      "metadata": {
        "colab": {
          "base_uri": "https://localhost:8080/"
        },
        "id": "jvoFJLap0t1F",
        "outputId": "3f2a8133-1a59-4369-c26b-8805514dd644"
      },
      "source": [
        "# We can even loop throught the dictionaries keys\n",
        "\n",
        "for x in my_dict:\n",
        "  print(x)"
      ],
      "execution_count": 75,
      "outputs": [
        {
          "output_type": "stream",
          "text": [
            "Car1\n",
            "Car2\n",
            "Car3\n"
          ],
          "name": "stdout"
        }
      ]
    },
    {
      "cell_type": "code",
      "metadata": {
        "colab": {
          "base_uri": "https://localhost:8080/"
        },
        "id": "pk5CTH8401VQ",
        "outputId": "78cfe2a2-022f-4850-986e-29b65bd16812"
      },
      "source": [
        "# We can even loop throught the dictionaries values\n",
        "\n",
        "for x in my_dict.values():\n",
        "  print(x)"
      ],
      "execution_count": 76,
      "outputs": [
        {
          "output_type": "stream",
          "text": [
            "Audi\n",
            "BMW\n",
            "Mercidies Benz\n"
          ],
          "name": "stdout"
        }
      ]
    },
    {
      "cell_type": "code",
      "metadata": {
        "colab": {
          "base_uri": "https://localhost:8080/"
        },
        "id": "GbpC03oE09-3",
        "outputId": "b00474f0-6c97-4eca-a113-ca04007661b3"
      },
      "source": [
        "# We can also check both keys and values\n",
        "\n",
        "for x in my_dict.items():\n",
        "  print(x)"
      ],
      "execution_count": 77,
      "outputs": [
        {
          "output_type": "stream",
          "text": [
            "('Car1', 'Audi')\n",
            "('Car2', 'BMW')\n",
            "('Car3', 'Mercidies Benz')\n"
          ],
          "name": "stdout"
        }
      ]
    },
    {
      "cell_type": "code",
      "metadata": {
        "id": "wc9qE4lG1KFo"
      },
      "source": [
        "# Adding items in Dictionaries\n",
        "\n",
        "my_dict['car4']='Audi 2.0'"
      ],
      "execution_count": 78,
      "outputs": []
    },
    {
      "cell_type": "code",
      "metadata": {
        "colab": {
          "base_uri": "https://localhost:8080/"
        },
        "id": "cXeihD2A1Qcx",
        "outputId": "3de0f76b-1c99-452e-db7b-c4c30d7a0d76"
      },
      "source": [
        "my_dict"
      ],
      "execution_count": 79,
      "outputs": [
        {
          "output_type": "execute_result",
          "data": {
            "text/plain": [
              "{'Car1': 'Audi', 'Car2': 'BMW', 'Car3': 'Mercidies Benz', 'car4': 'Audi 2.0'}"
            ]
          },
          "metadata": {
            "tags": []
          },
          "execution_count": 79
        }
      ]
    },
    {
      "cell_type": "code",
      "metadata": {
        "id": "LgITbfwW1SkJ"
      },
      "source": [
        "my_dict['Car1']='Maruti'"
      ],
      "execution_count": 80,
      "outputs": []
    },
    {
      "cell_type": "code",
      "metadata": {
        "colab": {
          "base_uri": "https://localhost:8080/"
        },
        "id": "zA6ShXXZ1WEl",
        "outputId": "6c23227e-00e4-425b-bf2d-1c5b6cd8067c"
      },
      "source": [
        "my_dict  # values can be overwritten"
      ],
      "execution_count": 81,
      "outputs": [
        {
          "output_type": "execute_result",
          "data": {
            "text/plain": [
              "{'Car1': 'Maruti', 'Car2': 'BMW', 'Car3': 'Mercidies Benz', 'car4': 'Audi 2.0'}"
            ]
          },
          "metadata": {
            "tags": []
          },
          "execution_count": 81
        }
      ]
    },
    {
      "cell_type": "code",
      "metadata": {
        "colab": {
          "base_uri": "https://localhost:8080/"
        },
        "id": "cKp7MdZj1XRn",
        "outputId": "c0e18ca0-860f-4880-e372-b103fd42c880"
      },
      "source": [
        "# Nested Dictionary\n",
        "\n",
        "car1_model = {'Mercedes':1960}\n",
        "car2_model = {'Audi':1970}\n",
        "car3_model = {'Ambassador':1980}\n",
        "\n",
        "car_type = {'car1':car1_model, 'car2':car2_model, 'car3':car3_model}\n",
        "\n",
        "print(car_type)"
      ],
      "execution_count": 82,
      "outputs": [
        {
          "output_type": "stream",
          "text": [
            "{'car1': {'Mercedes': 1960}, 'car2': {'Audi': 1970}, 'car3': {'Ambassador': 1980}}\n"
          ],
          "name": "stdout"
        }
      ]
    },
    {
      "cell_type": "code",
      "metadata": {
        "colab": {
          "base_uri": "https://localhost:8080/"
        },
        "id": "N8icmKrT1tvw",
        "outputId": "0f35811a-5a45-42d7-980a-3765c42e0a14"
      },
      "source": [
        "## Accessing the items in the dictionary\n",
        "\n",
        "print(car_type['car1'])"
      ],
      "execution_count": 83,
      "outputs": [
        {
          "output_type": "stream",
          "text": [
            "{'Mercedes': 1960}\n"
          ],
          "name": "stdout"
        }
      ]
    },
    {
      "cell_type": "markdown",
      "metadata": {
        "id": "9_kR5EAE13Cq"
      },
      "source": [
        "### Tuples"
      ]
    },
    {
      "cell_type": "code",
      "metadata": {
        "colab": {
          "base_uri": "https://localhost:8080/"
        },
        "id": "kAHSS5wj14-2",
        "outputId": "a03edbda-6d50-4d2e-8b52-bf13625be67d"
      },
      "source": [
        "# create an empty Tuples\n",
        "\n",
        "my_tuple=tuple()\n",
        "\n",
        "print(type(my_tuple))"
      ],
      "execution_count": 84,
      "outputs": [
        {
          "output_type": "stream",
          "text": [
            "<class 'tuple'>\n"
          ],
          "name": "stdout"
        }
      ]
    },
    {
      "cell_type": "code",
      "metadata": {
        "colab": {
          "base_uri": "https://localhost:8080/"
        },
        "id": "6-OlxI1o198G",
        "outputId": "1d6a47ec-88fd-43bd-d54d-c2600ff23605"
      },
      "source": [
        "# Another way of creating an empty tuple\n",
        "\n",
        "my_tuple = ()\n",
        "\n",
        "print(type(my_tuple))"
      ],
      "execution_count": 85,
      "outputs": [
        {
          "output_type": "stream",
          "text": [
            "<class 'tuple'>\n"
          ],
          "name": "stdout"
        }
      ]
    },
    {
      "cell_type": "code",
      "metadata": {
        "colab": {
          "base_uri": "https://localhost:8080/"
        },
        "id": "4oCcDDVC2JbT",
        "outputId": "b185baea-7da1-4b59-ff1e-62ac926fdeb5"
      },
      "source": [
        "# Tuples can be overwritten\n",
        "\n",
        "my_tuple = ('Swarnava', 'Abhishek', 'Pushpok')\n",
        "my_tuple = ('Deeyan')\n",
        "\n",
        "print(my_tuple)"
      ],
      "execution_count": 86,
      "outputs": [
        {
          "output_type": "stream",
          "text": [
            "Deeyan\n"
          ],
          "name": "stdout"
        }
      ]
    },
    {
      "cell_type": "code",
      "metadata": {
        "colab": {
          "base_uri": "https://localhost:8080/"
        },
        "id": "yfPNQLfl2dNW",
        "outputId": "ecc6e757-59af-41b0-eabf-be600474d08b"
      },
      "source": [
        "# Inbuilt function\n",
        "my_tuple.count('Deeyan')"
      ],
      "execution_count": 87,
      "outputs": [
        {
          "output_type": "execute_result",
          "data": {
            "text/plain": [
              "1"
            ]
          },
          "metadata": {
            "tags": []
          },
          "execution_count": 87
        }
      ]
    },
    {
      "cell_type": "code",
      "metadata": {
        "colab": {
          "base_uri": "https://localhost:8080/"
        },
        "id": "72x02sSz2tjw",
        "outputId": "6200560b-39a9-4ad5-b51e-54108891c977"
      },
      "source": [
        "my_tuple.index('Deeyan')"
      ],
      "execution_count": 88,
      "outputs": [
        {
          "output_type": "execute_result",
          "data": {
            "text/plain": [
              "0"
            ]
          },
          "metadata": {
            "tags": []
          },
          "execution_count": 88
        }
      ]
    }
  ]
}