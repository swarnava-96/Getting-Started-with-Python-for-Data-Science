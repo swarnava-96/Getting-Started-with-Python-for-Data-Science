{
  "nbformat": 4,
  "nbformat_minor": 0,
  "metadata": {
    "colab": {
      "name": "Notebook8",
      "provenance": [],
      "authorship_tag": "ABX9TyN2mzTu0ApsbG/WnI0eGPDB",
      "include_colab_link": true
    },
    "kernelspec": {
      "name": "python3",
      "display_name": "Python 3"
    },
    "language_info": {
      "name": "python"
    }
  },
  "cells": [
    {
      "cell_type": "markdown",
      "metadata": {
        "id": "view-in-github",
        "colab_type": "text"
      },
      "source": [
        "<a href=\"https://colab.research.google.com/github/swarnava-96/Getting-Started-with-Python-for-Data-Science/blob/main/Notebook8.ipynb\" target=\"_parent\"><img src=\"https://colab.research.google.com/assets/colab-badge.svg\" alt=\"Open In Colab\"/></a>"
      ]
    },
    {
      "cell_type": "markdown",
      "metadata": {
        "id": "fetWmzbO75aU"
      },
      "source": [
        "# **Functions in Python**\n",
        "\n",
        "1. Basic Functions\n",
        "2. Print vs return\n",
        "3. Positional and Keyword argument\n",
        "4. Inserting multiple statements inside a function\n",
        "5. Lambda Function\n",
        "6. Map Function\n",
        "7. Filter Function"
      ]
    },
    {
      "cell_type": "markdown",
      "metadata": {
        "id": "j6TBkV8p9jX9"
      },
      "source": [
        "### Basic Functions"
      ]
    },
    {
      "cell_type": "code",
      "metadata": {
        "colab": {
          "base_uri": "https://localhost:8080/"
        },
        "id": "gK5JMHSp8BI4",
        "outputId": "84f9a9a1-9513-474f-f390-7cf13d292dcd"
      },
      "source": [
        "# \n",
        "\n",
        "num = 24\n",
        "\n",
        "if num%2 == 0:\n",
        "  print('The number is even')\n",
        "else:\n",
        "  print('The Number is odd')"
      ],
      "execution_count": 1,
      "outputs": [
        {
          "output_type": "stream",
          "text": [
            "The number is even\n"
          ],
          "name": "stdout"
        }
      ]
    },
    {
      "cell_type": "code",
      "metadata": {
        "id": "1nyxfXX58etN"
      },
      "source": [
        "# Now using the above lines of code as a fuction\n",
        "\n",
        "def even_odd(num):\n",
        "  if num%2 == 0:\n",
        "    print('The Number is even')\n",
        "  else:\n",
        "    print('The Number is odd')"
      ],
      "execution_count": 2,
      "outputs": []
    },
    {
      "cell_type": "code",
      "metadata": {
        "colab": {
          "base_uri": "https://localhost:8080/"
        },
        "id": "yTdWq3CC9JmK",
        "outputId": "97b48327-86c4-4918-bf9c-633e5b49d1d6"
      },
      "source": [
        "# Checking our function\n",
        "\n",
        "even_odd(24)"
      ],
      "execution_count": 3,
      "outputs": [
        {
          "output_type": "stream",
          "text": [
            "The Number is even\n"
          ],
          "name": "stdout"
        }
      ]
    },
    {
      "cell_type": "markdown",
      "metadata": {
        "id": "3TnqEdTp9oq0"
      },
      "source": [
        "### Print vs return"
      ]
    },
    {
      "cell_type": "code",
      "metadata": {
        "id": "KqXYkcN-9rf0"
      },
      "source": [
        "def hello_world():\n",
        "  print(\"Hello welcome!\")"
      ],
      "execution_count": 4,
      "outputs": []
    },
    {
      "cell_type": "code",
      "metadata": {
        "colab": {
          "base_uri": "https://localhost:8080/"
        },
        "id": "tXC7REgc9yTN",
        "outputId": "20401282-0ebd-4462-91e5-fe5d20f61c1e"
      },
      "source": [
        "# Checking our function\n",
        "\n",
        "hello_world()"
      ],
      "execution_count": 5,
      "outputs": [
        {
          "output_type": "stream",
          "text": [
            "Hello welcome!\n"
          ],
          "name": "stdout"
        }
      ]
    },
    {
      "cell_type": "code",
      "metadata": {
        "colab": {
          "base_uri": "https://localhost:8080/"
        },
        "id": "zQbr0oKx959I",
        "outputId": "6ff2ecbc-afa9-4fcd-f829-9b2912c0f2c5"
      },
      "source": [
        "# Lets assign it to a variable and see the outcome\n",
        "\n",
        "val = hello_world()"
      ],
      "execution_count": 6,
      "outputs": [
        {
          "output_type": "stream",
          "text": [
            "Hello welcome!\n"
          ],
          "name": "stdout"
        }
      ]
    },
    {
      "cell_type": "code",
      "metadata": {
        "colab": {
          "base_uri": "https://localhost:8080/"
        },
        "id": "Lf6iTckt-D2P",
        "outputId": "0248ce6f-ac10-403a-bab1-84dd58a62048"
      },
      "source": [
        "print(val)"
      ],
      "execution_count": 7,
      "outputs": [
        {
          "output_type": "stream",
          "text": [
            "None\n"
          ],
          "name": "stdout"
        }
      ]
    },
    {
      "cell_type": "code",
      "metadata": {
        "id": "VeQQCIBR-IOH"
      },
      "source": [
        "# When printing the above function it is returning None as no return statement were present\n",
        "## Lets define the same function with a return statement\n",
        "\n",
        "def hello_world():\n",
        "  return \"Hello welcome!\""
      ],
      "execution_count": 8,
      "outputs": []
    },
    {
      "cell_type": "code",
      "metadata": {
        "id": "ru1ka_O4-kld"
      },
      "source": [
        "# Lets assign our new function to a variable\n",
        "\n",
        "val = hello_world()"
      ],
      "execution_count": 9,
      "outputs": []
    },
    {
      "cell_type": "code",
      "metadata": {
        "colab": {
          "base_uri": "https://localhost:8080/"
        },
        "id": "TcJpy_Tr-rJw",
        "outputId": "c8ab453d-a772-4f76-92c6-f443c2f8e50a"
      },
      "source": [
        "# Lets print \n",
        "\n",
        "print(hello_world())"
      ],
      "execution_count": 10,
      "outputs": [
        {
          "output_type": "stream",
          "text": [
            "Hello welcome!\n"
          ],
          "name": "stdout"
        }
      ]
    },
    {
      "cell_type": "code",
      "metadata": {
        "id": "MwwcVjO2-wRJ"
      },
      "source": [
        "# Defining another function\n",
        "\n",
        "def add_number(num1, num2):\n",
        "  return num1 + num2"
      ],
      "execution_count": 11,
      "outputs": []
    },
    {
      "cell_type": "code",
      "metadata": {
        "id": "EVv5bClt_Mr1"
      },
      "source": [
        "# Lets check our function\n",
        "\n",
        "val = add_number(24, 48)"
      ],
      "execution_count": 13,
      "outputs": []
    },
    {
      "cell_type": "code",
      "metadata": {
        "colab": {
          "base_uri": "https://localhost:8080/"
        },
        "id": "6EuutCEe_Uaq",
        "outputId": "38fa12f0-07ce-4e50-e32a-44a3a7cc6e42"
      },
      "source": [
        "val"
      ],
      "execution_count": 14,
      "outputs": [
        {
          "output_type": "execute_result",
          "data": {
            "text/plain": [
              "72"
            ]
          },
          "metadata": {
            "tags": []
          },
          "execution_count": 14
        }
      ]
    },
    {
      "cell_type": "markdown",
      "metadata": {
        "id": "ixzwog8g_sim"
      },
      "source": [
        "### Positional and Keyword argument"
      ]
    },
    {
      "cell_type": "code",
      "metadata": {
        "id": "YmAKgYdF_vr3"
      },
      "source": [
        "def hello(name, age = 25):\n",
        "  return \"My name is {} and my age is {}\".format(name, age)"
      ],
      "execution_count": 19,
      "outputs": []
    },
    {
      "cell_type": "code",
      "metadata": {
        "colab": {
          "base_uri": "https://localhost:8080/"
        },
        "id": "_Z_ce7I1_7UC",
        "outputId": "e009348f-cbba-418f-e50a-d9df92da8d80"
      },
      "source": [
        "val = hello(\"Swarnava\")\n",
        "print(val)"
      ],
      "execution_count": 20,
      "outputs": [
        {
          "output_type": "stream",
          "text": [
            "My name is Swarnava and my age is 25\n"
          ],
          "name": "stdout"
        }
      ]
    },
    {
      "cell_type": "markdown",
      "metadata": {
        "id": "W5zJmt6fAXyx"
      },
      "source": [
        "Here above if we dont assign any name value then it is a positional argument and age is a keyword argument as value is already predefined."
      ]
    },
    {
      "cell_type": "code",
      "metadata": {
        "id": "lX2wmKfXAlls"
      },
      "source": [
        "# Another way of defining positional and keyword arguments\n",
        "\n",
        "def hello(*args, **kwargs):\n",
        "  print(args)\n",
        "  print(kwargs)"
      ],
      "execution_count": 21,
      "outputs": []
    },
    {
      "cell_type": "code",
      "metadata": {
        "colab": {
          "base_uri": "https://localhost:8080/"
        },
        "id": "H2DkN7uqBHpm",
        "outputId": "51510b58-b646-42ec-a9f4-c1abdde11391"
      },
      "source": [
        "hello(\"Swarnava\", \"Mukherjee\", age = 25, dob = 1996)"
      ],
      "execution_count": 22,
      "outputs": [
        {
          "output_type": "stream",
          "text": [
            "('Swarnava', 'Mukherjee')\n",
            "{'age': 25, 'dob': 1996}\n"
          ],
          "name": "stdout"
        }
      ]
    },
    {
      "cell_type": "code",
      "metadata": {
        "id": "CESdN50sBREn"
      },
      "source": [
        "# We can also assign our positional inputs as a list and keyword arguments as a dictionary\n",
        "\n",
        "list = ['Swarnava', 'Mukherjee']\n",
        "dict = {'age': 25, 'dob': 1996}"
      ],
      "execution_count": 23,
      "outputs": []
    },
    {
      "cell_type": "code",
      "metadata": {
        "colab": {
          "base_uri": "https://localhost:8080/"
        },
        "id": "d-YC47CjBnJy",
        "outputId": "a6ffd0f5-39a4-4fcf-93a6-de696bf181db"
      },
      "source": [
        "hello(*list, **dict)"
      ],
      "execution_count": 24,
      "outputs": [
        {
          "output_type": "stream",
          "text": [
            "('Swarnava', 'Mukherjee')\n",
            "{'age': 25, 'dob': 1996}\n"
          ],
          "name": "stdout"
        }
      ]
    },
    {
      "cell_type": "markdown",
      "metadata": {
        "id": "tE8YXWrYCQSK"
      },
      "source": [
        "### Inserting Multiple statements inside a function"
      ]
    },
    {
      "cell_type": "code",
      "metadata": {
        "id": "8lJ0Mi05CVSG"
      },
      "source": [
        "list = [1, 2, 3, 4, 5, 6, 7, 8, 9, 10]"
      ],
      "execution_count": 25,
      "outputs": []
    },
    {
      "cell_type": "code",
      "metadata": {
        "id": "hfaNt1_WCe6A"
      },
      "source": [
        "def evenoddsum(list):\n",
        "  even_sum = 0\n",
        "  odd_sum = 0\n",
        "  for i in list:\n",
        "    if i%2 == 0:\n",
        "      even_sum = even_sum + i\n",
        "    else:\n",
        "      odd_sum = odd_sum + i\n",
        "  return even_sum, odd_sum"
      ],
      "execution_count": 26,
      "outputs": []
    },
    {
      "cell_type": "code",
      "metadata": {
        "colab": {
          "base_uri": "https://localhost:8080/"
        },
        "id": "1zz9CpnlDH9v",
        "outputId": "ab4f37ec-57e5-4741-db90-2255f421f784"
      },
      "source": [
        "evenoddsum(list)"
      ],
      "execution_count": 27,
      "outputs": [
        {
          "output_type": "execute_result",
          "data": {
            "text/plain": [
              "(30, 25)"
            ]
          },
          "metadata": {
            "tags": []
          },
          "execution_count": 27
        }
      ]
    },
    {
      "cell_type": "markdown",
      "metadata": {
        "id": "YidX-jpuDXab"
      },
      "source": [
        "### Lambda Functions\n",
        "\n",
        "It is also called anonymous function or a function with no name."
      ]
    },
    {
      "cell_type": "code",
      "metadata": {
        "id": "VN2PBmffDaHV"
      },
      "source": [
        "# Defining a general function\n",
        "\n",
        "def addition(a, b):\n",
        "  return a + b"
      ],
      "execution_count": 28,
      "outputs": []
    },
    {
      "cell_type": "code",
      "metadata": {
        "colab": {
          "base_uri": "https://localhost:8080/"
        },
        "id": "i613hUwUDzsc",
        "outputId": "6437868c-ae71-4739-81ea-da898803290f"
      },
      "source": [
        "addition(5, 9)"
      ],
      "execution_count": 29,
      "outputs": [
        {
          "output_type": "execute_result",
          "data": {
            "text/plain": [
              "14"
            ]
          },
          "metadata": {
            "tags": []
          },
          "execution_count": 29
        }
      ]
    },
    {
      "cell_type": "markdown",
      "metadata": {
        "id": "DxEqPKWRD9GI"
      },
      "source": [
        "Now lets use a lambda function for the above mentioned general fuction.\n",
        "\n",
        "NOTE: Lambda functions can only be used when we have ONE expression inside our function. Lambda functions are faster compared to general functions."
      ]
    },
    {
      "cell_type": "code",
      "metadata": {
        "id": "KFdfb59lEKjm"
      },
      "source": [
        "addition = lambda a, b : a + b"
      ],
      "execution_count": 32,
      "outputs": []
    },
    {
      "cell_type": "code",
      "metadata": {
        "colab": {
          "base_uri": "https://localhost:8080/"
        },
        "id": "KEvoqEc7Ezt7",
        "outputId": "d3b870a3-b46e-4d5b-cb38-9d9d68a6839c"
      },
      "source": [
        "addition(5, 9)"
      ],
      "execution_count": 33,
      "outputs": [
        {
          "output_type": "execute_result",
          "data": {
            "text/plain": [
              "14"
            ]
          },
          "metadata": {
            "tags": []
          },
          "execution_count": 33
        }
      ]
    },
    {
      "cell_type": "code",
      "metadata": {
        "id": "X9Ks_q9JE2_Z"
      },
      "source": [
        "# General function to check whether a number is even or not\n",
        "\n",
        "def even(num):\n",
        "  if num%2 ==0:\n",
        "    return True"
      ],
      "execution_count": 34,
      "outputs": []
    },
    {
      "cell_type": "code",
      "metadata": {
        "colab": {
          "base_uri": "https://localhost:8080/"
        },
        "id": "3wlDQAH1FSyf",
        "outputId": "7d3ba531-38f6-44d3-92b2-651c56aed5a8"
      },
      "source": [
        "even(24)"
      ],
      "execution_count": 35,
      "outputs": [
        {
          "output_type": "execute_result",
          "data": {
            "text/plain": [
              "True"
            ]
          },
          "metadata": {
            "tags": []
          },
          "execution_count": 35
        }
      ]
    },
    {
      "cell_type": "code",
      "metadata": {
        "id": "z4DRb-beFUkr"
      },
      "source": [
        "# Using lambda function for the same task\n",
        "\n",
        "even1 = lambda a : a%2 == 0"
      ],
      "execution_count": 38,
      "outputs": []
    },
    {
      "cell_type": "code",
      "metadata": {
        "colab": {
          "base_uri": "https://localhost:8080/"
        },
        "id": "ixlzJbyyFlOG",
        "outputId": "270c4be5-3b64-41b9-fee0-188602fcfeaf"
      },
      "source": [
        "even1(24)"
      ],
      "execution_count": 39,
      "outputs": [
        {
          "output_type": "execute_result",
          "data": {
            "text/plain": [
              "True"
            ]
          },
          "metadata": {
            "tags": []
          },
          "execution_count": 39
        }
      ]
    },
    {
      "cell_type": "code",
      "metadata": {
        "id": "-7SvjXDKFoeB"
      },
      "source": [
        "# Another example comparing general with lambda functions\n",
        "\n",
        "def addition(x, y, z):\n",
        "  return x + y + z"
      ],
      "execution_count": 40,
      "outputs": []
    },
    {
      "cell_type": "code",
      "metadata": {
        "colab": {
          "base_uri": "https://localhost:8080/"
        },
        "id": "-V2bIL7PGAQ4",
        "outputId": "9f5de8cb-a512-44c3-8f3a-64adbf5e00e9"
      },
      "source": [
        "addition(2,3,4)"
      ],
      "execution_count": 42,
      "outputs": [
        {
          "output_type": "execute_result",
          "data": {
            "text/plain": [
              "9"
            ]
          },
          "metadata": {
            "tags": []
          },
          "execution_count": 42
        }
      ]
    },
    {
      "cell_type": "code",
      "metadata": {
        "id": "Ey7NMqQGGDBk"
      },
      "source": [
        "# Now using lambda functon\n",
        "\n",
        "value = lambda x, y, z : x + y + z"
      ],
      "execution_count": 43,
      "outputs": []
    },
    {
      "cell_type": "code",
      "metadata": {
        "colab": {
          "base_uri": "https://localhost:8080/"
        },
        "id": "oMrTjoewGUYR",
        "outputId": "4a1814dd-e33d-4377-9a2d-f04a931946f1"
      },
      "source": [
        "value(2,3,4)"
      ],
      "execution_count": 44,
      "outputs": [
        {
          "output_type": "execute_result",
          "data": {
            "text/plain": [
              "9"
            ]
          },
          "metadata": {
            "tags": []
          },
          "execution_count": 44
        }
      ]
    },
    {
      "cell_type": "markdown",
      "metadata": {
        "id": "-GnbfRIuGkrh"
      },
      "source": [
        "### Map Functions"
      ]
    },
    {
      "cell_type": "code",
      "metadata": {
        "id": "Mney1OLdGmhh"
      },
      "source": [
        "# Defining a even odd function\n",
        "\n",
        "def even_or_odd(num):\n",
        "  if num%2 == 0:\n",
        "    return \"The Number {} is even\".format(num)\n",
        "  else:\n",
        "    return \"The Number {} is odd\".format(num)"
      ],
      "execution_count": 45,
      "outputs": []
    },
    {
      "cell_type": "code",
      "metadata": {
        "colab": {
          "base_uri": "https://localhost:8080/",
          "height": 35
        },
        "id": "8DXuQLRdJLJr",
        "outputId": "0f18d982-d176-499c-c7e6-dd134688dbe4"
      },
      "source": [
        "# Lets execute the function\n",
        "\n",
        "even_or_odd(24)"
      ],
      "execution_count": 46,
      "outputs": [
        {
          "output_type": "execute_result",
          "data": {
            "application/vnd.google.colaboratory.intrinsic+json": {
              "type": "string"
            },
            "text/plain": [
              "'The Number 24 is even'"
            ]
          },
          "metadata": {
            "tags": []
          },
          "execution_count": 46
        }
      ]
    },
    {
      "cell_type": "markdown",
      "metadata": {
        "id": "UnX4wWbqKpVx"
      },
      "source": [
        "Now suppose we have a list of numbers, then to check which are odd and which are even we can either use a loop and iterate through each number or we can use a Map Function."
      ]
    },
    {
      "cell_type": "code",
      "metadata": {
        "id": "S8cEfPW7K5x2"
      },
      "source": [
        "list = [1, 2, 3, 4, 5, 6, 7, 8, 9, 10]"
      ],
      "execution_count": 47,
      "outputs": []
    },
    {
      "cell_type": "code",
      "metadata": {
        "colab": {
          "base_uri": "https://localhost:8080/"
        },
        "id": "hRiz3SEgQFqc",
        "outputId": "c6aa397a-a222-4c61-9756-88a2f2346c3b"
      },
      "source": [
        "map(even_or_odd, list)"
      ],
      "execution_count": 59,
      "outputs": [
        {
          "output_type": "execute_result",
          "data": {
            "text/plain": [
              "<map at 0x7f27607dd610>"
            ]
          },
          "metadata": {
            "tags": []
          },
          "execution_count": 59
        }
      ]
    },
    {
      "cell_type": "code",
      "metadata": {
        "id": "CnTuRiIIQS3i"
      },
      "source": [
        "value = map(even_or_odd, list)"
      ],
      "execution_count": 55,
      "outputs": []
    },
    {
      "cell_type": "code",
      "metadata": {
        "colab": {
          "base_uri": "https://localhost:8080/"
        },
        "id": "CVFAyzzFRY_j",
        "outputId": "f776553d-3f34-45e4-b186-227779af2177"
      },
      "source": [
        "for i in value:\n",
        "  print(i)"
      ],
      "execution_count": 60,
      "outputs": [
        {
          "output_type": "stream",
          "text": [
            "The Number 1 is odd\n",
            "The Number 2 is even\n",
            "The Number 3 is odd\n",
            "The Number 4 is even\n",
            "The Number 5 is odd\n",
            "The Number 6 is even\n",
            "The Number 7 is odd\n",
            "The Number 8 is even\n",
            "The Number 9 is odd\n",
            "The Number 10 is even\n"
          ],
          "name": "stdout"
        }
      ]
    },
    {
      "cell_type": "markdown",
      "metadata": {
        "id": "c0w_MNMbS6zb"
      },
      "source": [
        "### Filter Function"
      ]
    },
    {
      "cell_type": "code",
      "metadata": {
        "id": "W50kYndmTpvf"
      },
      "source": [
        "# lets define an even function\n",
        "\n",
        "def even(num):\n",
        "  if num%2 == 0:\n",
        "    return True"
      ],
      "execution_count": 61,
      "outputs": []
    },
    {
      "cell_type": "code",
      "metadata": {
        "id": "J3N0E7OZUHw7"
      },
      "source": [
        "list = [1, 2, 3, 4, 5, 6, 7, 8, 9, 10]"
      ],
      "execution_count": 62,
      "outputs": []
    },
    {
      "cell_type": "code",
      "metadata": {
        "id": "6w1pUBi9ULWM"
      },
      "source": [
        "value = (filter(even, list))"
      ],
      "execution_count": 64,
      "outputs": []
    },
    {
      "cell_type": "code",
      "metadata": {
        "colab": {
          "base_uri": "https://localhost:8080/"
        },
        "id": "zPjj6R7uUSwL",
        "outputId": "f16bc332-a9a7-4f79-8b87-d723c62885a1"
      },
      "source": [
        "for i in value:\n",
        "  print(i)"
      ],
      "execution_count": 65,
      "outputs": [
        {
          "output_type": "stream",
          "text": [
            "2\n",
            "4\n",
            "6\n",
            "8\n",
            "10\n"
          ],
          "name": "stdout"
        }
      ]
    },
    {
      "cell_type": "code",
      "metadata": {
        "id": "sp0oG1LUUh5l"
      },
      "source": [
        "# Using the filter function with lambda function\n",
        "\n",
        "value1 = filter(lambda num : num%2 == 0, list)"
      ],
      "execution_count": 66,
      "outputs": []
    },
    {
      "cell_type": "code",
      "metadata": {
        "colab": {
          "base_uri": "https://localhost:8080/"
        },
        "id": "w1OJaV_lU-7u",
        "outputId": "35a5b16e-feb1-4fe7-83fb-aed835422e1b"
      },
      "source": [
        "for i in value1:\n",
        "  print(i)"
      ],
      "execution_count": 67,
      "outputs": [
        {
          "output_type": "stream",
          "text": [
            "2\n",
            "4\n",
            "6\n",
            "8\n",
            "10\n"
          ],
          "name": "stdout"
        }
      ]
    },
    {
      "cell_type": "code",
      "metadata": {
        "id": "tHb67BxWVCgb"
      },
      "source": [
        "# Using the map function with lambda\n",
        "\n",
        "value2 = map(lambda num : num%2 == 0, list)"
      ],
      "execution_count": 68,
      "outputs": []
    },
    {
      "cell_type": "code",
      "metadata": {
        "colab": {
          "base_uri": "https://localhost:8080/"
        },
        "id": "giLD08EkVST_",
        "outputId": "e713db5d-ea0e-4df9-a3ce-8c19dc33fcb7"
      },
      "source": [
        "for i in value2:\n",
        "  print(i)"
      ],
      "execution_count": 69,
      "outputs": [
        {
          "output_type": "stream",
          "text": [
            "False\n",
            "True\n",
            "False\n",
            "True\n",
            "False\n",
            "True\n",
            "False\n",
            "True\n",
            "False\n",
            "True\n"
          ],
          "name": "stdout"
        }
      ]
    }
  ]
}